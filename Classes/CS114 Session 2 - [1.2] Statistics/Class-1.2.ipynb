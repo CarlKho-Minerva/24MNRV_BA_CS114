{
 "cells": [
  {
   "cell_type": "code",
   "execution_count": null,
   "metadata": {},
   "outputs": [],
   "source": []
  },
  {
   "cell_type": "code",
   "execution_count": null,
   "metadata": {},
   "outputs": [],
   "source": []
  },
  {
   "cell_type": "code",
   "execution_count": null,
   "metadata": {},
   "outputs": [],
   "source": []
  },
  {
   "cell_type": "code",
   "execution_count": 4,
   "metadata": {},
   "outputs": [
    {
     "name": "stdout",
     "output_type": "stream",
     "text": [
      "count_10_heads: 20\n",
      "count_double_headed_given_10_heads: 8\n",
      "heads: 5\n",
      "num_double_headed_coins: 1\n",
      "num_fair_coins: 999\n",
      "num_simulations: 10000\n",
      "probability_double_headed_given_10_heads: 0.4000\n",
      "selected_coin: 0\n"
     ]
    }
   ],
   "source": [
    "import numpy as np\n",
    "import matplotlib.pyplot as plt\n",
    "\n",
    "# Parameters\n",
    "num_fair_coins = 999\n",
    "num_double_headed_coins = 1\n",
    "num_simulations = 10_000  # Number of simulations to run\n",
    "\n",
    "# Create a list of coins where 0 represents fair coin and 1 represents double-headed coin\n",
    "coins = [0] * num_fair_coins + [1] * num_double_headed_coins\n",
    "\n",
    "# Initialize counters\n",
    "count_double_headed_given_10_heads = 0\n",
    "count_10_heads = 0\n",
    "\n",
    "for _ in range(num_simulations):\n",
    "    # Randomly select a coin\n",
    "    selected_coin = np.random.choice(coins)\n",
    "\n",
    "    # Simulate flipping the coin 10 times\n",
    "    if selected_coin == 1:\n",
    "        # Double-headed coin will always result in 10 heads\n",
    "        heads = 10\n",
    "    else:\n",
    "        # Fair coin flips, with each flip having a 50% chance of heads\n",
    "        heads = np.sum(np.random.rand(10) < 0.5)\n",
    "\n",
    "    # Check if we got 10 heads\n",
    "    if heads == 10:\n",
    "        count_10_heads += 1\n",
    "        if selected_coin == 1:\n",
    "            count_double_headed_given_10_heads += 1\n",
    "\n",
    "# Calculate probabilities\n",
    "probability_double_headed_given_10_heads = (\n",
    "    count_double_headed_given_10_heads / count_10_heads if count_10_heads > 0 else 0\n",
    ")\n",
    "\n",
    "# print(f\"coins: {coins}\")\n",
    "print(f\"count_10_heads: {count_10_heads}\")\n",
    "print(f\"count_double_headed_given_10_heads: {count_double_headed_given_10_heads}\")\n",
    "print(f\"heads: {heads}\")\n",
    "print(f\"num_double_headed_coins: {num_double_headed_coins}\")\n",
    "print(f\"num_fair_coins: {num_fair_coins}\")\n",
    "print(f\"num_simulations: {num_simulations}\")\n",
    "print(\n",
    "    f\"probability_double_headed_given_10_heads: {probability_double_headed_given_10_heads:.4f}\"\n",
    ")\n",
    "print(f\"selected_coin: {selected_coin}\")"
   ]
  },
  {
   "cell_type": "code",
   "execution_count": null,
   "metadata": {},
   "outputs": [],
   "source": []
  },
  {
   "cell_type": "code",
   "execution_count": null,
   "metadata": {},
   "outputs": [],
   "source": []
  },
  {
   "cell_type": "markdown",
   "metadata": {},
   "source": [
    "____\n",
    "Here is the formatted content with code cells, captions, and detailed walkthroughs:\n",
    "\n"
   ]
  },
  {
   "cell_type": "code",
   "execution_count": null,
   "metadata": {},
   "outputs": [],
   "source": [
    "# Step 1: Import necessary libraries and define data\n",
    "import numpy as np\n",
    "import matplotlib.pyplot as plt\n",
    "\n",
    "data = [3.287, 2.884, 2.422, 8.045, 2.733, 4.306, 7.470, 2.666, 4.330, 9.372]\n",
    "\n",
    "print('Data mean:    ', round(np.mean(data), 2))\n",
    "print('Data variance:', round(np.var(data), 2))\n",
    "\n",
    "plt.figure()\n",
    "plt.hist(data, edgecolor='white')\n",
    "plt.title(f'Data histogram ({len(data)} values)')\n",
    "plt.xlabel('data value')\n",
    "plt.ylabel('count')\n",
    "plt.xlim(0, 15)\n",
    "plt.show()"
   ]
  },
  {
   "cell_type": "markdown",
   "metadata": {},
   "source": [
    "*Code Cell 1: Import necessary libraries and define data. Compute and display the mean and variance of the data, and plot a histogram of the data.*\n",
    "\n"
   ]
  },
  {
   "cell_type": "code",
   "execution_count": null,
   "metadata": {},
   "outputs": [],
   "source": [
    "# Step 2: Define the simulation model\n",
    "def model(n, s):\n",
    "    '''\n",
    "    Inputs:\n",
    "        n is a positive integer.\n",
    "        s is a positive real number.\n",
    "    '''\n",
    "    from random import uniform\n",
    "    from numpy import log\n",
    "\n",
    "    # Generate n random numbers between 0 and 1\n",
    "    u = [uniform(0, 1) for i in range(n)]\n",
    "\n",
    "    # Compute the log and multiply by -s\n",
    "    x = -s * log(u)\n",
    "\n",
    "    # Add up the numbers and return the result\n",
    "    return sum(x)\n",
    "\n",
    "# Generate simulated data\n",
    "n = 2 # integer\n",
    "s = 2.8  # real number\n",
    "num_samples = 100\n",
    "model_output = [model(n, s) for _ in range(num_samples)]\n",
    "\n",
    "# Plot histograms of both the observed and simulated data\n",
    "plt.figure()\n",
    "plt.hist(data, bins=np.arange(0, 30, 1), edgecolor='white')\n",
    "plt.title(f'Data histogram ({len(data)} values)')\n",
    "plt.xlabel('data value')\n",
    "plt.ylabel('count')\n",
    "plt.xlim(0, 15)\n",
    "plt.show()\n",
    "\n",
    "plt.figure()\n",
    "plt.hist(model_output, bins=np.arange(0, 30, 1), edgecolor='white')\n",
    "plt.title(f'Simulated histogram ({len(model_output)} values)')\n",
    "plt.xlabel('model output')\n",
    "plt.ylabel('count')\n",
    "plt.xlim(0, 15)\n",
    "plt.show()"
   ]
  },
  {
   "cell_type": "markdown",
   "metadata": {},
   "source": [
    "*Code Cell 2: Define the simulation model, generate simulated data, and plot histograms of both the observed and simulated data.*\n",
    "\n"
   ]
  },
  {
   "cell_type": "code",
   "execution_count": null,
   "metadata": {},
   "outputs": [],
   "source": [
    "# Step 3: Compute and display the mean and variance of the simulated data for different values of n and s\n",
    "s = 0.8  # real number\n",
    "num_samples = 100\n",
    "\n",
    "for n in range(1, 8):\n",
    "    model_output = [model(n, s) for _ in range(num_samples)]\n",
    "    print(f'n = {n}, s = {s}')\n",
    "    print('Simulation mean:    ', np.mean(model_output))\n",
    "    print('Simulation variance:', np.var(model_output))\n",
    "\n",
    "# INITIAL VALUES\n",
    "# Data mean:     4.75\n",
    "# Data variance: 5.94"
   ]
  },
  {
   "cell_type": "markdown",
   "metadata": {},
   "source": [
    "*Code Cell 3: Compute and display the mean and variance of the simulated data for different values of n and s.*"
   ]
  }
 ],
 "metadata": {
  "kernelspec": {
   "display_name": "venv",
   "language": "python",
   "name": "python3"
  },
  "language_info": {
   "codemirror_mode": {
    "name": "ipython",
    "version": 3
   },
   "file_extension": ".py",
   "mimetype": "text/x-python",
   "name": "python",
   "nbconvert_exporter": "python",
   "pygments_lexer": "ipython3",
   "version": "3.12.3"
  }
 },
 "nbformat": 4,
 "nbformat_minor": 2
}
