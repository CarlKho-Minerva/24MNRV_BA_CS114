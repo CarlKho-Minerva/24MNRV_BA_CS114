{
 "cells": [
  {
   "cell_type": "code",
   "execution_count": 1,
   "metadata": {},
   "outputs": [
    {
     "name": "stdout",
     "output_type": "stream",
     "text": [
      "P(Beginner | O): 2.2779815583487498e-05\n",
      "P(Intermediate | O): 0.3051565659224897\n",
      "P(Expert | O): 0.6948206542619269\n"
     ]
    }
   ],
   "source": [
    "times_win = 3\n",
    "times_lose = 7\n",
    "\n",
    "p_o_given_b = 0.9**3 * 0.1**7\n",
    "p_o_given_i = 0.5**3 * 0.5**7\n",
    "p_o_given_e = 0.3**3 * 0.7**7\n",
    "\n",
    "prior = 1 / 3  # All skill levels initially equally likely.\n",
    "\n",
    "# Evidence (normalizing constant):\n",
    "p_o = p_o_given_b * prior + p_o_given_i * prior + p_o_given_e * prior\n",
    "\n",
    "\n",
    "# Posteriors\n",
    "p_b_given_o = (p_o_given_b * prior) / p_o\n",
    "p_i_given_o = (p_o_given_i * prior) / p_o\n",
    "p_e_given_o = (p_o_given_e * prior) / p_o\n",
    "\n",
    "\n",
    "print(f\"P(Beginner | O): {p_b_given_o}\") # [ 0.000022779815583487498 ]\n",
    "print(f\"P(Intermediate | O): {p_i_given_o}\")\n",
    "print(f\"P(Expert | O): {p_e_given_o}\")"
   ]
  },
  {
   "cell_type": "code",
   "execution_count": null,
   "metadata": {},
   "outputs": [],
   "source": []
  }
 ],
 "metadata": {
  "kernelspec": {
   "display_name": "Python 3",
   "language": "python",
   "name": "python3"
  },
  "language_info": {
   "codemirror_mode": {
    "name": "ipython",
    "version": 3
   },
   "file_extension": ".py",
   "mimetype": "text/x-python",
   "name": "python",
   "nbconvert_exporter": "python",
   "pygments_lexer": "ipython3",
   "version": "3.11.9"
  }
 },
 "nbformat": 4,
 "nbformat_minor": 2
}
