{
 "cells": [
  {
   "cell_type": "code",
   "execution_count": 2,
   "metadata": {},
   "outputs": [
    {
     "name": "stdout",
     "output_type": "stream",
     "text": [
      " In about 0.116281 of trials we ended up with 46 or more cured people in the treatment group\n",
      "Can't reject null hypothesis\n"
     ]
    }
   ],
   "source": [
    "import scipy.stats as sts\n",
    "import numpy as np\n",
    "\n",
    "# Simulation of Fisher Scenario\n",
    "N = 100  # population size\n",
    "k = 87  # total cured\n",
    "n = 50  # sample size\n",
    "data = 46\n",
    "distribution = sts.hypergeom(N, k, n)  #\n",
    "samples = distribution.rvs(1000000)\n",
    "# p_value_simulated = np.mean(samples >= data) #p value from treatment group having more than 46 cured\n",
    "# p_value_simulated = np.mean(samples <= 41) #p value from control group having less than 41 cured\n",
    "\n",
    "k = 13  # NOT CURED\n",
    "distribution = sts.hypergeom(N, k, n)\n",
    "samples = distribution.rvs(1000000)\n",
    "# p_value_simulated = np.mean(samples <= 4) #p value from treatment group having less than\n",
    "p_value_simulated = np.mean(samples >= 9)  # p value from control group having less than\n",
    "\n",
    "print(\n",
    "    f\" In about {p_value_simulated} of trials we ended up with 46 or more cured people in the treatment group\"\n",
    ")\n",
    "alpha = 0.05\n",
    "\n",
    "if p_value_simulated < alpha:\n",
    "    print(\"Reject null hypothesis\")\n",
    "else:\n",
    "    print(\"Can't reject null hypothesis\")"
   ]
  },
  {
   "cell_type": "code",
   "execution_count": 3,
   "metadata": {},
   "outputs": [
    {
     "name": "stdout",
     "output_type": "stream",
     "text": [
      "0.9090909090909092\n",
      "0.0909090909090909\n"
     ]
    }
   ],
   "source": [
    "p1 = 0.9\n",
    "p2 = 0.9\n",
    "pA = p1 / (\n",
    "    1 - (1 - p1) * (1 - p2)\n",
    ")  # Probability that A wins the game (by answering a question correctly before B)\n",
    "pB = (1 - p1) * p2 / (1 - (1 - p1) * (1 - p2))\n",
    "print(pA)\n",
    "print(pB)"
   ]
  },
  {
   "cell_type": "code",
   "execution_count": null,
   "metadata": {},
   "outputs": [],
   "source": []
  }
 ],
 "metadata": {
  "kernelspec": {
   "display_name": "Python 3",
   "language": "python",
   "name": "python3"
  },
  "language_info": {
   "codemirror_mode": {
    "name": "ipython",
    "version": 3
   },
   "file_extension": ".py",
   "mimetype": "text/x-python",
   "name": "python",
   "nbconvert_exporter": "python",
   "pygments_lexer": "ipython3",
   "version": "3.11.9"
  }
 },
 "nbformat": 4,
 "nbformat_minor": 2
}
