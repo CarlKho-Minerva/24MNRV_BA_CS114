{
 "cells": [
  {
   "cell_type": "markdown",
   "metadata": {},
   "source": [
    "# Forum Code Workbook\n",
    "Carl Vincent Kho\n",
    "## SARS-CoV-2 test simulation\n",
    "Build a simulation to explore the scenario below.\n",
    "\n",
    "Assume 3% of people in the UK are infected with the coronavirus. (This was true during the 2021 infection peaks in the UK [Worldometer].\n",
    "\n",
    "Assume a person who does a coronavirus test has a 10% chance of having SARS-CoV-2. This is higher than the 3% figure above since people usually test when they are at risk – when they have symptoms or were in contact with someone who had symptoms.\n",
    "\n",
    "The sensitivity of a lateral flow test is about 67%. This means that if you have the virus, the test will be correct and say \"You have the virus\" 67% of the time. (And the test will be incorrect 33% of the time.)\n",
    "\n",
    "The specificity of a lateral flow test is about 99.95%. This means that if you don't have the virus, the test will be correct and say \"You don't have the virus\" 99.95% of the time. (And the test will be incorrect 0.05% of the time.) [BMJ]\n",
    "\n",
    "## Task 1\n",
    "\n",
    "You will use `random.choice` with appropriately set up inputs to simulate a random person coming in for a test, a random outcome (correct or incorrect) depending on whether the random person has the virus.\n",
    "\n",
    "First, set up the lists you will pass to `random.choice` below and check that your answer is correct using the hidden code cell."
   ]
  },
  {
   "cell_type": "code",
   "execution_count": 1,
   "metadata": {},
   "outputs": [
    {
     "name": "stdout",
     "output_type": "stream",
     "text": [
      "[1, -1, -1, -1, -1, -1, -1, -1, -1, -1]\n"
     ]
    }
   ],
   "source": [
    "\"\"\"\n",
    "Your explanation here.\n",
    "\"\"\"\n",
    "\n",
    "# Write your answer as a list of numbers. For example, people = [+1, -1]\n",
    "\n",
    "# Use +1 to represent an infected person (positive) and -1 to represent an\n",
    "# uninfected person (negative). You need to set this up so random.choice will\n",
    "# generate infected people 10% of the time.\n",
    "\n",
    "people = [1] * 1 + [-1] * 9\n",
    "print(people)\n",
    "\n",
    "# Use +1 to represent a positive test outcome (meaning: the test thinks the\n",
    "# person is infected) and -1 to represent a negative test outcome.\n",
    "test_for_positive_people = [1] * 67 + [-1] * 33\n",
    "test_for_negative_people = [-1] * 9995 + [1] * 5"
   ]
  },
  {
   "cell_type": "markdown",
   "metadata": {},
   "source": [
    "Run Code\n",
    "Out [4]\n",
    "[1, -1, -1, -1, -1, -1, -1, -1, -1, -1]\n",
    "👍   👎   Check your answer below\n",
    "\n",
    "Code Cell 2 of 4 - Hidden Code\n",
    "Run Code\n",
    "Out [5]\n",
    "✅ Success!\n",
    "## Task 2\n",
    "\n",
    "On a given day, 1,500,000 people are tested. Run a simulation for this scenario and count the number of correct and incorrect test results like this.\n",
    "\n",
    "Count the true positives (TP): The people who are infected and have a positive test result.\n",
    "Count the false positives (FP): The people who are not infected but still have a positive test result.\n",
    "Count the true negatives (TN): The people who are not infected and have a negative test result.\n",
    "Count the false negatives (FN): The people who are infected but still get a negative test result."
   ]
  },
  {
   "cell_type": "code",
   "execution_count": null,
   "metadata": {},
   "outputs": [],
   "source": [
    "'''\n",
    "Your explanation here.\n",
    "'''\n",
    "\n",
    "import random\n",
    "\n",
    "counts = {\n",
    "    'TP': 0,  # True positives\n",
    "    'FP': 0,  # False positives\n",
    "    'TN': 0,  # True negatives\n",
    "    'FN': 0}  # False negatives\n",
    "\n",
    "for trial in range(1500000):  # Simulate 1.5 million people\n",
    "    # Randomly generate the infection status of the person\n",
    "    # If the person is positive, determine whether the test say they are positive\n",
    "    # If the person is negative, determine whether the test say they are negative\n",
    "    # Update the appropriate count accourdingly\n",
    "    person = random.choice(people)\n",
    "    if person == 1:\n",
    "        test_result = random.choice(test_for_positive_people)\n",
    "        if test_result == 1: # true positive\n",
    "            counts['TP'] += 1\n",
    "        elif test_result == -1: # false negative\n",
    "            counts['FN'] += 1\n",
    "    else:\n",
    "        test_result = random.choice(test_for_negative_people)\n",
    "        if test_result == 1: # False Positive\n",
    "            counts['FP'] += 1\n",
    "        elif test_result == -1: # True Negative\n",
    "            counts['TN'] += 1\n",
    "\n",
    "print(counts)"
   ]
  },
  {
   "cell_type": "markdown",
   "metadata": {},
   "source": [
    "Run Code\n",
    "Out [6]\n",
    "{'TP': 100327, 'FP': 681, 'TN': 1349676, 'FN': 49316}\n",
    "👍   👎   Check your answer below\n",
    "\n",
    "Code Cell 4 of 4 - Hidden Code\n",
    "Run Code\n",
    "### Question 1 of 2\n",
    "(a) How bad is this situation? Are the test results accurate enough? Explain.\n",
    "\n",
    "### Question 2 of 2\n",
    "(b) What would happen if we tested a lot of additional people who are asymptomatic (and therefore less likely to have the virus)?\n",
    "\n",
    "Python 3 (384MB RAM) | Edit\n",
    "Run All Cells\n",
    "Kernel Ready | Restart | Interrupt"
   ]
  }
 ],
 "metadata": {
  "kernelspec": {
   "display_name": "venv",
   "language": "python",
   "name": "python3"
  },
  "language_info": {
   "codemirror_mode": {
    "name": "ipython",
    "version": 3
   },
   "file_extension": ".py",
   "mimetype": "text/x-python",
   "name": "python",
   "nbconvert_exporter": "python",
   "pygments_lexer": "ipython3",
   "version": "3.12.3"
  }
 },
 "nbformat": 4,
 "nbformat_minor": 2
}
