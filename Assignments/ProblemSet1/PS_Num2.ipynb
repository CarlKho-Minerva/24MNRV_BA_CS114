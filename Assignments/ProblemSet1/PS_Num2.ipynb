{
 "cells": [
  {
   "cell_type": "markdown",
   "metadata": {},
   "source": [
    "## Problem 2. Distinguished shoes (#probability)\n",
    "\n",
    "$N$ guests with the same shoe size are putting on shoes in the dark as they leave the apartment. Each of them can distinguish a right shoe from a left shoe, but they cannot distinguish their own shoes from those of others. Find the probabilities of the following events:\n",
    "\n",
    "1. **Event A:** All guests put on their own shoes.\n",
    "2. **Event B:** All guests put on shoes from the same pair (which may not be their own).\n",
    "\n",
    "Write a simulation to verify your answers to problems 2.1 and 2.2."
   ]
  },
  {
   "cell_type": "markdown",
   "metadata": {},
   "source": []
  }
 ],
 "metadata": {
  "language_info": {
   "name": "python"
  }
 },
 "nbformat": 4,
 "nbformat_minor": 2
}
