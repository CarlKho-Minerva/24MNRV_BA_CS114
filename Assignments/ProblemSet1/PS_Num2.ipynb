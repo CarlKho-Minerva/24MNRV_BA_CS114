{
 "cells": [
  {
   "cell_type": "markdown",
   "metadata": {},
   "source": [
    "## Problem 2. Distinguished shoes (#probability)\n",
    "\n",
    "$N$ guests with the same shoe size are putting on shoes in the dark as they leave the apartment. Each of them can distinguish a right shoe from a left shoe, but they cannot distinguish their own shoes from those of others. Find the probabilities of the following events:\n",
    "\n",
    "### **Event A:** All guests put on their own shoes."
   ]
  },
  {
   "cell_type": "markdown",
   "metadata": {},
   "source": [
    "Let $N$ be the number of guests. Since each guest has a left and a right shoe, there are $2N$ shoes in total. Each guest must choose one left shoe and one right shoe. We assume that each guest picks one left and one right shoe randomly.\n",
    "\n",
    "Let's consider the total number of ways the $N$ guests can pick up the $2N$ shoes, such that every guest has a left shoe and a right shoe. The number of ways to select the left shoes is $N!$. The number of ways to select the right shoes is $N!$. \n",
    "\n",
    "Therefore, the total number of ways to select the pairs of shoes is given by the product of these two: \n",
    "\n",
    "$$\n",
    "(N!) * (N!) = (N!)^2\n",
    "$$\n",
    "\n",
    "Out of all possible arrangements, there's only one correct arrangement where every guest wears their own pair of shoes (both left and right shoes matching). This is because each guest needs to pick their specific left shoe, and their specific right shoe. Any other choice would lead to at least one guest not wearing their own pair.\n",
    "\n",
    "Therefore, the probability of event A (all guests put on their own shoes) is:\n",
    "\n",
    "$$\n",
    "P(A) = \\frac{1}{(N!)^2}\n",
    "$$"
   ]
  },
  {
   "cell_type": "code",
   "execution_count": 18,
   "metadata": {},
   "outputs": [],
   "source": [
    "import numpy as np\n",
    "import matplotlib.pyplot as plt\n",
    "import pandas as pd\n",
    "\n",
    "\n",
    "def simulate_shoe_problem(n, num_trials=1_000_000):\n",
    "    \"\"\"Simulates the shoe problem for N guests over a specified number of trials.\"\"\"\n",
    "    successes = 0\n",
    "    for _ in range(num_trials):\n",
    "        # Create a list of left and right shoes\n",
    "        # Represented by the indexes of the shoes\n",
    "        left_shoes = np.arange(n)\n",
    "        right_shoes = np.arange(n)\n",
    "        # Shuffle the shoes\n",
    "        # This represents the random assignment of shoes to guests\n",
    "        np.random.shuffle(left_shoes)\n",
    "        np.random.shuffle(right_shoes)\n",
    "\n",
    "        # Check if all guests have their own shoes\n",
    "        # This condition is met if and ONLY IF guest `i` gets their own left shoe (index `i`)\n",
    "        # and their own right shoe (index `i`) for every guest `i`\n",
    "        # all() returns True if all elements in the iterable are True\n",
    "        if all(left_shoes[i] == right_shoes[i] == i for i in range(n)):\n",
    "            successes += 1\n",
    "\n",
    "    # Return the probability of success\n",
    "    return successes / num_trials"
   ]
  },
  {
   "cell_type": "code",
   "execution_count": 19,
   "metadata": {},
   "outputs": [
    {
     "name": "stderr",
     "output_type": "stream",
     "text": [
      "/var/folders/5c/74zjnt5j7tz5srqtplhlybsh0000gn/T/ipykernel_3320/3080354942.py:8: DeprecationWarning: `np.math` is a deprecated alias for the standard library `math` module (Deprecated Numpy 1.25). Replace usages of `np.math` with `math`\n",
      "  analytical_prob = 1 / (np.math.factorial(n) ** 2)\n"
     ]
    },
    {
     "name": "stdout",
     "output_type": "stream",
     "text": [
      "\n",
      "\n",
      "   N  Simulated Probability  Analytical Probability\n",
      "0  1               1.000000                1.000000\n",
      "1  2               0.249913                0.250000\n",
      "2  3               0.027734                0.027778\n",
      "3  4               0.001736                0.001736\n",
      "4  5               0.000065                0.000069\n"
     ]
    }
   ],
   "source": [
    "# Data collection\n",
    "n_values = range(1, 6)  # Test for N = 1 to 5\n",
    "probabilities_simulated = []\n",
    "probabilities_analytical = []\n",
    "\n",
    "for n in n_values:\n",
    "    simulated_prob = simulate_shoe_problem(n)\n",
    "    analytical_prob = 1 / (np.math.factorial(n) ** 2)\n",
    "\n",
    "    probabilities_simulated.append(simulated_prob)\n",
    "    probabilities_analytical.append(analytical_prob)\n",
    "\n",
    "# Create a DataFrame for easier viz\n",
    "data = {\n",
    "    \"N\": list(n_values),\n",
    "    \"Simulated Probability\": probabilities_simulated,\n",
    "    \"Analytical Probability\": probabilities_analytical,\n",
    "}\n",
    "df = pd.DataFrame(data)\n",
    "\n",
    "# Display the DataFrame\n",
    "print(\"\\n\")\n",
    "print(df)"
   ]
  },
  {
   "cell_type": "markdown",
   "metadata": {},
   "source": [
    "### **Event B:** All guests put on shoes from the same pair (which may not be their own)."
   ]
  },
  {
   "cell_type": "markdown",
   "metadata": {},
   "source": [
    "Again, let $N$ be the number of guests. There are $2N$ shoes in total (N left shoes and N right shoes).\n",
    "\n",
    "Total number of ways to choose left shoes: $N!$ (N choices for the first guest, N-1 for the second, ..., 1 for the last)\n",
    "\n",
    "Total number of ways to choose right shoes: $N!$\n",
    "\n",
    "The total number of possible shoe arrangements is $(N!)^2$, as each guest selects one left shoe and one right shoe independently.\n",
    "\n",
    "All guests wear shoes from the same pair. This means if guest 1 picks a left shoe belonging to guest 'X', then they must also pick the right shoe belonging to guest 'X'. The second guest then picks a pair belonging to another guest 'Y' (different from X), and so on.\n",
    "\n",
    "The first guest can choose any of the $N$ left shoes. Having chosen a left shoe, the first guest then must choose the matching right shoe (only 1 choice). The second guest can now choose any of the remaining $N-1$ left shoes. Then they too must take the matching right shoe (only 1 option). This continues until the last guest.\n",
    "\n",
    "So, the number of ways all guests put on shoes from the same pair is $N!$ (the number of ways to assign the pairs to guests).\n",
    "\n",
    "Therefore, the probability of event B is:\n",
    "\n",
    " $$\n",
    " P(B) = \\frac{N!}{(N!)^2} = \\frac{1}{N!} \n",
    " $$"
   ]
  },
  {
   "cell_type": "code",
   "execution_count": 31,
   "metadata": {},
   "outputs": [],
   "source": [
    "import numpy as np\n",
    "import math\n",
    "import pandas as pd\n",
    "import matplotlib.pyplot as plt\n",
    "\n",
    "\n",
    "def simulate_shoe_problem_b(n, num_trials=1_000_000):\n",
    "    \"\"\"Simulates event B for the shoe problem.\"\"\"\n",
    "    successes = 0\n",
    "    for _ in range(num_trials):\n",
    "        left_shoes = np.arange(n)\n",
    "        right_shoes = np.arange(n)\n",
    "        np.random.shuffle(left_shoes)\n",
    "        np.random.shuffle(right_shoes)\n",
    "\n",
    "        # The difference between event A and event B is that\n",
    "        # event B does not check if the left and right shoes are the same with index i\n",
    "        # no extra \"== i\"\n",
    "        if all(left_shoes[i] == right_shoes[i] for i in range(n)):\n",
    "            successes += 1\n",
    "\n",
    "    return successes / num_trials"
   ]
  },
  {
   "cell_type": "code",
   "execution_count": 33,
   "metadata": {},
   "outputs": [
    {
     "name": "stdout",
     "output_type": "stream",
     "text": [
      "   N  Simulated Probability (B)  Analytical Probability (B)\n",
      "0  1                   1.000000                    1.000000\n",
      "1  2                   0.499888                    0.500000\n",
      "2  3                   0.166168                    0.166667\n",
      "3  4                   0.041974                    0.041667\n",
      "4  5                   0.008390                    0.008333\n"
     ]
    }
   ],
   "source": [
    "# Example usage (copy-pasted from the previous cell)\n",
    "n_values = range(1, 6)\n",
    "simulated_probs = []\n",
    "analytical_probs = []\n",
    "\n",
    "for n in n_values:\n",
    "    simulated_prob = simulate_shoe_problem_b(n)\n",
    "    analytical_prob = 1 / math.factorial(n)\n",
    "    simulated_probs.append(simulated_prob)\n",
    "    analytical_probs.append(analytical_prob)\n",
    "\n",
    "# Create a DataFrame\n",
    "data = {\n",
    "    \"N\": list(n_values),\n",
    "    \"Simulated Probability (B)\": simulated_probs,\n",
    "    \"Analytical Probability (B)\": analytical_probs,\n",
    "}\n",
    "df = pd.DataFrame(data)\n",
    "\n",
    "# Display the DataFrame\n",
    "print(df)"
   ]
  }
 ],
 "metadata": {
  "kernelspec": {
   "display_name": "Python 3",
   "language": "python",
   "name": "python3"
  },
  "language_info": {
   "codemirror_mode": {
    "name": "ipython",
    "version": 3
   },
   "file_extension": ".py",
   "mimetype": "text/x-python",
   "name": "python",
   "nbconvert_exporter": "python",
   "pygments_lexer": "ipython3",
   "version": "3.11.9"
  }
 },
 "nbformat": 4,
 "nbformat_minor": 2
}
