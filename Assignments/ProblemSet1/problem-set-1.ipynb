{
  "cells": [
    {
      "cell_type": "markdown",
      "metadata": {},
      "source": [
        "# CS114. Problem set 1.\n",
        "\n",
        "## Instructions\n",
        "\n",
        "* Complete the problems below. Show your work. Motivate your answers.\n",
        "* **No handwritten submissions.** You may upload either\n",
        "   * one Python notebook containing all your work, or\n",
        "   * a PDF with your text and math **and** a separate Python notebook with your code.\n",
        "* In addition to the LOs listed next to each problem, you will be graded on #cs114-MathTools, #cs114-CompTools, #composition, #organization, and #professionalism for the overall quality of your math, code, and explanations.\n",
        "* **Cite your sources.**\n",
        "   * List your collaborators (if any) — for example, \"Discussed Problem 1 with Ji-Won\". You may discuss ideas on how to solve the problems but not share code or writing. Basically, if you copy something someone else wrote or typed, you're doing the wrong thing. If you copy something from someone else and then modify it to look different, you are still doing the wrong thing. If you copy something from an AI tool, you are also doing the wrong thing.\n",
        "   * You may use code from class, but always cite the lesson and activity — for example, \"Lesson 13, breakout problem 2\".\n",
        "   * Cite all external sources used.\n",
        "   * **Do not use AI tools** for solving the problems in this assignment. The purpose of this assignment is to practice fairly standard types of probability problems. If you use AI tools to solve them, you miss out on the opportunity to puzzle out how the problems work and train your mind to think more clearly about these types of problems in the future."
      ]
    },
    {
      "cell_type": "markdown",
      "metadata": {},
      "source": [
        "____\n",
        "## Problem 1. License Plates (#probability)\n",
        "\n",
        "Argentinian license plates currently contain 7 characters: two letters, three numbers, and two more letters. There are 26 possible letters (A-Z) and 10 digits (0-9).\n",
        "\n",
        "Answer each of the questions below and carefully explain your answers."
      ]
    },
    {
      "cell_type": "markdown",
      "metadata": {},
      "source": [
        "## 1. How many different license plate arrangements are there?\n",
        "\n",
        "We need to determine how many different license plate arrangements are possible for Argentinian license plates, which contain:\n",
        "\n",
        "- Two letters\n",
        "- Three numbers\n",
        "- Two more letters\n",
        "\n",
        "Each letter can be one of 26 possible letters (A-Z), and each number can be one of 10 possible digits (0-9).\n",
        "\n",
        "Order matters? \n",
        "> Yes.\n",
        "\n",
        "Arranging or choosing? \n",
        "> Arranging\n",
        "\n",
        "Since the order of characters is important (letters and numbers are placed in a specific order), we need to consider all possible permutations.\n",
        "\n",
        "We can break the problem down into:\n",
        "\n",
        "1. Two letters (26 possible choices for each)\n",
        "2. Three numbers (10 possible choices for each)\n",
        "3. Two more letters (26 possible choices for each)\n",
        "\n",
        "The total number of possible license plate arrangements is the product of all these choices:\n",
        "$$\n",
        "26 \\times 26 \\times 10 \\times 10 \\times 10 \\times 26 \\times 26\n",
        "$$\n"
      ]
    },
    {
      "cell_type": "code",
      "execution_count": 6,
      "metadata": {},
      "outputs": [
        {
          "name": "stdout",
          "output_type": "stream",
          "text": [
            "There are 456976000 possible license plate arrangements.\n"
          ]
        }
      ],
      "source": [
        "letters = 26\n",
        "numbers = 10\n",
        "total_arrangements = letters * letters * numbers * numbers * numbers * letters * letters\n",
        "print(f\"There are {total_arrangements} possible license plate arrangements.\")"
      ]
    },
    {
      "cell_type": "markdown",
      "metadata": {},
      "source": [
        "**ANSWER**\n",
        "By multiplying these possibilities together, we calculate the total number of different license plate arrangements. Keep in mind that this problem focuses on permutations since the order of letters and numbers matters.\n"
      ]
    },
    {
      "cell_type": "markdown",
      "metadata": {
        "id": "bcJv3uHOWYsX"
      },
      "source": [
        "____\n",
        "## 2. What is the probability that a randomly chosen arrangement contains no repeated characters?\n",
        "\n",
        "We are tasked with finding the probability that a randomly chosen license plate contains no repeated characters. The plate contains:\n",
        "\n",
        "- Two letters (26 possibilities for each letter)\n",
        "- Three numbers (10 possibilities for each number)\n",
        "- Two more letters (26 possibilities for each letter)\n",
        "\n",
        "Order matters? \n",
        "> Yes.\n",
        "\n",
        "Arranging or choosing? \n",
        "> Arranging, but with the restriction that no characters can repeat.\n",
        "\n",
        "### My step-by-step reasoning:\n",
        "*Pulling in strategies from #CS110_AlgoStratDataStruct for more solid reasoning*\n",
        "\n",
        "- For the first letter, we can choose any of the 26 letters.\n",
        "- For the second letter, we must choose from the remaining 25 letters (since repetition is not allowed).\n",
        "- For the first number, we have 10 possible digits.\n",
        "- For the second number, we must choose from the remaining 9 digits.\n",
        "- For the third number, we choose from the remaining 8 digits.\n",
        "- For the third letter, we have 24 possible letters (since we used 2 letters already).\n",
        "- For the fourth letter, we have 23 possible letters.\n",
        "\n",
        "The total number of possible arrangements without repeated characters is:\n",
        "$$\n",
        "26 \\times 25 \\times 10 \\times 9 \\times 8 \\times 24 \\times 23\n",
        "$$\n",
        "\n",
        "The probability is the ratio of these non-repeating arrangements to the total number of possible license plate arrangements, which we calculated earlier:\n",
        "$$\n",
        "P(\\text{no repeated characters}) = \\frac{26 \\times 25 \\times 10 \\times 9 \\times 8 \\times 24 \\times 23}{26 \\times 26 \\times 10 \\times 10 \\times 10 \\times 26 \\times 26}\n",
        "$$\n"
      ]
    },
    {
      "cell_type": "code",
      "execution_count": 10,
      "metadata": {},
      "outputs": [
        {
          "name": "stdout",
          "output_type": "stream",
          "text": [
            "The probability of no repeated characters is approximately 0.565316 or 56.5%.\n"
          ]
        }
      ],
      "source": [
        "total_arrangements = 26 * 26 * 10 * 10 * 10 * 26 * 26\n",
        "non_repeating_arrangements = 26 * 25 * 10 * 9 * 8 * 24 * 23\n",
        "probability = non_repeating_arrangements / total_arrangements\n",
        "\n",
        "print(\n",
        "    f\"The probability of no repeated characters is approximately {probability:.6f} or 56.5%.\"\n",
        ")"
      ]
    },
    {
      "cell_type": "markdown",
      "metadata": {
        "id": "xbfEANgsWRwT"
      },
      "source": [
        "___\n",
        "## What is the probability that a randomly chosen arrangement is a palyndrome (that is, it reads the same from left to right or right to left)?\n",
        "\n",
        "To calculate the probability of a randomly chosen license plate being a palindrome (reads the same forwards and backwards), we must consider the structure of the plate:\n",
        "\n",
        "- The first and last letters must be the same.\n",
        "- The second and second-to-last letters must be the same.\n",
        "- The third number must stay the same.\n",
        "\n",
        "The plate layout becomes: L1 L2 N1 N2 N3 L2 L1\n",
        "\n",
        "Order matters? \n",
        "> Yes.\n",
        "\n",
        "Arranging or choosing? \n",
        "> Arranging, but with palindrome symmetry constraints.\n",
        "\n",
        "### Step-by-step reasoning:\n",
        "\n",
        "- The first letter (L1) can be any of 26 letters.\n",
        "- The second letter (L2) can be any of 26 letters.\n",
        "- The first number (N1) can be any of 10 digits.\n",
        "- The second number (N2) can be any of 10 digits.\n",
        "- The middle number (N3) can be any of 10 digits.\n",
        "- The rest of the letters are determined by symmetry: the third and fourth letters must mirror L1 and L2.\n",
        "\n",
        "Thus, the total number of palindrome arrangements is:\n",
        "$$\n",
        "26 \\times 26 \\times 10 \\times 10 \\times 10\n",
        "$$\n",
        "\n",
        "The probability is the ratio of these palindrome arrangements to the total number of possible license plate arrangements:\n",
        "$$\n",
        "P(\\text{palindrome}) = \\frac{26 \\times 26 \\times 10 \\times 10 \\times 10}{26 \\times 26 \\times 10 \\times 10 \\times 10 \\times 26 \\times 26}\n",
        "$$\n"
      ]
    },
    {
      "cell_type": "code",
      "execution_count": 19,
      "metadata": {},
      "outputs": [
        {
          "name": "stdout",
          "output_type": "stream",
          "text": [
            "The probability of a palindrome license plate is approximately 0.000148. or 0.15%\n"
          ]
        }
      ],
      "source": [
        "total_arrangements = 26 * 26 * 10 * 10 * 10 * 26 * 26\n",
        "palindrome_arrangements = 26 * 26 * 10 * 10 * 10\n",
        "\n",
        "probability = palindrome_arrangements / total_arrangements\n",
        "\n",
        "print(\n",
        "    f\"The probability of a palindrome license plate is approximately {probability:.6f}. or 0.15%\"\n",
        ")"
      ]
    },
    {
      "cell_type": "markdown",
      "metadata": {
        "id": "LlUeZP8Phmrw"
      },
      "source": [
        "___\n",
        "## 4. Write a simulation to verify your results to problems 1.2 and 1.3.\n",
        "\n",
        "We will write a simulation to estimate the probabilities calculated above. The simulation will randomly generate license plates and check for:\n",
        "\n",
        "1. Whether there are repeated characters.\n",
        "2. Whether the plate is a palindrome."
      ]
    },
    {
      "cell_type": "code",
      "execution_count": 28,
      "metadata": {},
      "outputs": [
        {
          "name": "stdout",
          "output_type": "stream",
          "text": [
            "Total possible license plate arrangements: 6.4310e+26\n",
            "Favorable outcomes for no repeated characters: 19656000\n",
            "Favorable outcomes for palindromes: 67600\n",
            "First five generated plates: ['BQ546VS', 'AC888UW', 'XY527YZ', 'KZ451KZ', 'UB300NI']\n",
            "Count of plates with no repeated characters: 565546\n",
            "Count of palindrome plates: 138\n",
            "Palindromes found and their attempt number: [(8006, 'OS282SO'), (10380, 'YV434VY'), (20869, 'AV303VA'), (29510, 'WG404GW'), (38834, 'DL929LD'), (44028, 'ZE797EZ'), (54035, 'NY949YN'), (55049, 'YJ535JY'), (60459, 'DF909FD'), (66799, 'LM595ML'), (69222, 'GR414RG'), (72229, 'NZ828ZN'), (73699, 'GJ707JG'), (77570, 'QY080YQ'), (84388, 'VE303EV'), (84562, 'SH636HS'), (92210, 'WH797HW'), (105723, 'AI404IA'), (111699, 'UJ888JU'), (116377, 'VV747VV'), (123086, 'BZ171ZB'), (125095, 'JW424WJ'), (135149, 'XA232AX'), (136261, 'DO464OD'), (140559, 'JA939AJ'), (145117, 'NX010XN'), (150299, 'ZH121HZ'), (172600, 'CN343NC'), (173600, 'CM929MC'), (182411, 'MU191UM'), (197877, 'JI171IJ'), (208151, 'SR444RS'), (210949, 'NP585PN'), (230355, 'PB383BP'), (231093, 'GF353FG'), (232386, 'HK686KH'), (233157, 'YN595NY'), (234031, 'YH262HY'), (238909, 'YS979SY'), (250250, 'VJ595JV'), (275911, 'YB181BY'), (281663, 'AE747EA'), (293972, 'IY212YI'), (299573, 'IV313VI'), (332882, 'TU111UT'), (333087, 'VF303FV'), (336728, 'ZA727AZ'), (348242, 'DS808SD'), (353146, 'SI222IS'), (355848, 'GB050BG'), (364544, 'KI737IK'), (371250, 'KR545RK'), (371291, 'AI363IA'), (390144, 'BH818HB'), (401089, 'TI000IT'), (404838, 'LK111KL'), (409012, 'IH898HI'), (416300, 'AC505CA'), (416661, 'RE656ER'), (423407, 'EQ989QE'), (425549, 'SB515BS'), (425935, 'UQ717QU'), (428843, 'MV121VM'), (432556, 'CF646FC'), (436451, 'MG515GM'), (438412, 'PO000OP'), (445012, 'SO808OS'), (446439, 'FJ939JF'), (446454, 'HW454WH'), (447535, 'KC020CK'), (458668, 'MN676NM'), (473696, 'BV707VB'), (496527, 'DI737ID'), (500245, 'NM949MN'), (504998, 'FX565XF'), (507270, 'FR838RF'), (527005, 'UU595UU'), (534919, 'AC212CA'), (536130, 'XT131TX'), (539768, 'VJ242JV'), (545955, 'XB717BX'), (552016, 'FN050NF'), (579694, 'PS030SP'), (583590, 'XL141LX'), (585209, 'WJ595JW'), (587632, 'DL575LD'), (598122, 'RY212YR'), (608745, 'PI575IP'), (615131, 'BC070CB'), (617569, 'YL242LY'), (634258, 'CQ494QC'), (640352, 'IA787AI'), (644986, 'DL888LD'), (655970, 'PG050GP'), (659451, 'CQ797QC'), (660263, 'VX141XV'), (664355, 'VA373AV'), (672623, 'OI535IO'), (678344, 'NW020WN'), (690709, 'TF868FT'), (694935, 'QD848DQ'), (701840, 'TR171RT'), (704024, 'QQ949QQ'), (705041, 'RC272CR'), (718337, 'YS686SY'), (751376, 'II343II'), (764186, 'EC838CE'), (773568, 'IU282UI'), (788617, 'GM161MG'), (796167, 'KX414XK'), (796570, 'GG646GG'), (797279, 'DX535XD'), (807408, 'BT717TB'), (813354, 'UX474XU'), (815654, 'IW323WI'), (816339, 'MN101NM'), (831459, 'KD666DK'), (838909, 'HR141RH'), (847440, 'XN646NX'), (849634, 'MK737KM'), (853209, 'RT595TR'), (854698, 'KI000IK'), (856072, 'KT464TK'), (870375, 'WX252XW'), (871083, 'KZ525ZK'), (881193, 'HT070TH'), (883190, 'WJ131JW'), (887192, 'WT161TW'), (899794, 'DD444DD'), (903811, 'FS252SF'), (905170, 'NM434MN'), (913297, 'EL939LE'), (916752, 'KD444DK'), (931474, 'TY000YT'), (964062, 'QF696FQ'), (965278, 'KX393XK'), (981954, 'ZI969IZ'), (988866, 'HG000GH')]\n",
            "('Estimated Probability of no repeated characters: 0.565546', 'Estimated Probability of palindrome: 0.000138')\n"
          ]
        }
      ],
      "source": [
        "import random\n",
        "from math import factorial\n",
        "\n",
        "\n",
        "def permutation_formula(n, r):\n",
        "    \"\"\"\n",
        "    This function calculates the permutation of n objects taken r at a time.\n",
        "    \"\"\"\n",
        "    numerator = factorial(n)\n",
        "    denominator = factorial(n - r)\n",
        "    permutation = numerator / denominator\n",
        "\n",
        "    return permutation\n",
        "\n",
        "\n",
        "def generate_license_plate():\n",
        "    \"\"\"\n",
        "    Generates a random license plate consisting of 2 letters, 3 digits, and 2 letters.\n",
        "\n",
        "    Returns:\n",
        "        list: A list of characters representing the license plate.\n",
        "    \"\"\"\n",
        "    letters = [\n",
        "        \"A\",\n",
        "        \"B\",\n",
        "        \"C\",\n",
        "        \"D\",\n",
        "        \"E\",\n",
        "        \"F\",\n",
        "        \"G\",\n",
        "        \"H\",\n",
        "        \"I\",\n",
        "        \"J\",\n",
        "        \"K\",\n",
        "        \"L\",\n",
        "        \"M\",\n",
        "        \"N\",\n",
        "        \"O\",\n",
        "        \"P\",\n",
        "        \"Q\",\n",
        "        \"R\",\n",
        "        \"S\",\n",
        "        \"T\",\n",
        "        \"U\",\n",
        "        \"V\",\n",
        "        \"W\",\n",
        "        \"X\",\n",
        "        \"Y\",\n",
        "        \"Z\",\n",
        "    ]\n",
        "    digits = \"0123456789\"\n",
        "\n",
        "    plate = (\n",
        "        random.choices(letters, k=2)\n",
        "        + random.choices(digits, k=3)\n",
        "        + random.choices(letters, k=2)\n",
        "    )\n",
        "    return plate\n",
        "\n",
        "\n",
        "def check_no_repeated(plate):\n",
        "    \"\"\"\n",
        "    Checks if the license plate has no repeated characters.\n",
        "\n",
        "    Args:\n",
        "        plate (list): The license plate to check.\n",
        "\n",
        "    Returns:\n",
        "        bool: True if no characters are repeated, False otherwise.\n",
        "    \"\"\"\n",
        "    return len(plate) == len(set(plate))\n",
        "\n",
        "\n",
        "def check_palindrome(plate):\n",
        "    \"\"\"\n",
        "    Checks if the license plate is a palindrome.\n",
        "\n",
        "    Args:\n",
        "        plate (list): The license plate to check.\n",
        "\n",
        "    Returns:\n",
        "        bool: True if the plate is a palindrome, False otherwise.\n",
        "    \"\"\"\n",
        "    return plate == plate[::-1]\n",
        "\n",
        "\n",
        "def simulate_license_plates(trials):\n",
        "    \"\"\"\n",
        "    Simulates the generation of license plates and calculates the probabilities\n",
        "    of having no repeated characters and being a palindrome.\n",
        "\n",
        "    Args:\n",
        "        trials (int): The number of trials to run.\n",
        "\n",
        "    Returns:\n",
        "        tuple: Estimated probabilities of no repeated characters and being a palindrome.\n",
        "    \"\"\"\n",
        "    no_repeat_count = 0\n",
        "    palindrome_count = 0\n",
        "\n",
        "    # Debug: Store the first five plates for verification\n",
        "    first_five_plates = []\n",
        "\n",
        "    # Debug: Store all palindromes found and their attempt number\n",
        "    palindromes_found = []\n",
        "\n",
        "    for i in range(trials):\n",
        "        plate = generate_license_plate()\n",
        "        if i < 5:\n",
        "            first_five_plates.append(\n",
        "                \"\".join(plate)\n",
        "            )  # Convert list to string for readability\n",
        "        if check_no_repeated(plate):\n",
        "            no_repeat_count += 1\n",
        "        if check_palindrome(plate):\n",
        "            palindrome_count += 1\n",
        "            palindromes_found.append(\n",
        "                (i + 1, \"\".join(plate))\n",
        "            )  # Store attempt number and plate\n",
        "\n",
        "    no_repeat_prob = no_repeat_count / trials\n",
        "    palindrome_prob = palindrome_count / trials\n",
        "\n",
        "    # Debug: Print the first five plates and counts\n",
        "    print(\"First five generated plates:\", first_five_plates)\n",
        "    print(\"Count of plates with no repeated characters:\", no_repeat_count)\n",
        "    print(\"Count of palindrome plates:\", palindrome_count)\n",
        "    print(\"Palindromes found and their attempt number:\", palindromes_found)\n",
        "\n",
        "    return (\n",
        "        f\"Estimated Probability of no repeated characters: {no_repeat_prob:.6f}\",\n",
        "        f\"Estimated Probability of palindrome: {palindrome_prob:.6f}\",\n",
        "    )\n",
        "\n",
        "\n",
        "# Calculate total number of possible license plates\n",
        "total_arrangements = permutation_formula(26 * 10 * 26, 7)\n",
        "print(f\"Total possible license plate arrangements: {total_arrangements:.4e}\")\n",
        "\n",
        "# Calculate favorable outcomes for no repeated characters\n",
        "favorable_outcomes_no_repeat = 26 * 25 * 10 * 9 * 8 * 7 * 6\n",
        "print(f\"Favorable outcomes for no repeated characters: {favorable_outcomes_no_repeat}\")\n",
        "\n",
        "# Calculate favorable outcomes for palindromes\n",
        "favorable_outcomes_palindrome = 26 * 26 * 10 * 10\n",
        "print(f\"Favorable outcomes for palindromes: {favorable_outcomes_palindrome}\")\n",
        "\n",
        "# Run the simulation for 1,000,000 trials\n",
        "print(simulate_license_plates(1_000_000))"
      ]
    },
    {
      "cell_type": "markdown",
      "metadata": {},
      "source": [
        "The simulation will generate a large number of license plates, check for repeated characters and palindromes, and provide an estimate of the probabilities based on the results.\n"
      ]
    },
    {
      "cell_type": "markdown",
      "metadata": {
        "id": "LtMmNDY9tsGm"
      },
      "source": [
        "___\n",
        "## Problem 2. Distinguished shoes (#probability)\n",
        "\n",
        "$N$ guests with the same shoe size are putting on shoes in the dark as they leave the apartment. Each of them can distinguish a right shoe from a left shoe, but they cannot distinguish their own shoes from those of others. Find the probabilities of the following events:\n",
        "\n",
        "1. **Event A:** All guests put on their own shoes.\n",
        "2. **Event B:** All guests put on shoes from the same pair (which may not be their own).\n",
        "\n",
        "Write a simulation to verify your answers to problems 2.1 and 2.2."
      ]
    },
    {
      "cell_type": "markdown",
      "metadata": {},
      "source": [
        "## Problem 2. Distinguished Shoes\n",
        "\n",
        "We have $N$ guests, each with a pair of shoes (one left and one right). The guests can distinguish between left and right shoes but not their own shoes from others'. We're interested in the probability of certain events occurring as they randomly pick shoes in the dark.\n",
        "\n",
        "### Event A: All guests put on their own shoes.\n",
        "\n",
        "In this case, each guest must choose their own pair of shoes from all the available shoes, meaning they must avoid taking someone else's. This is a specific scenario of a **derangement** problem.\n",
        "\n",
        "### Order matters?  \n",
        "> Yes, since the probability depends on which specific shoes each guest ends up with.\n",
        "\n",
        "### Arranging or choosing?  \n",
        "> Arranging\n",
        "\n",
        "### Formula:\n",
        "This is a classic derangement problem, where we calculate the number of ways none of the $N$ guests put on their own shoes (a derangement) compared to the total number of possible ways to assign the shoes (which is $N!$). The probability that everyone gets their own shoes is:\n",
        "\n",
        "$$\n",
        "P(A) = \\frac{1}{N!}\n",
        "$$\n",
        "\n",
        "This is because there is exactly 1 way in which each guest picks their own shoes out of $N!$ total possible ways to assign the shoes.\n"
      ]
    },
    {
      "cell_type": "code",
      "execution_count": 29,
      "metadata": {},
      "outputs": [
        {
          "data": {
            "text/plain": [
              "0.041666666666666664"
            ]
          },
          "execution_count": 29,
          "metadata": {},
          "output_type": "execute_result"
        }
      ],
      "source": [
        "from math import factorial\n",
        "\n",
        "\n",
        "def probability_all_correct(n):\n",
        "    # The probability that all guests get their own shoes\n",
        "    return 1 / factorial(n)\n",
        "\n",
        "\n",
        "# Test with N = 4 (4 guests)\n",
        "probability_all_correct(4)"
      ]
    },
    {
      "cell_type": "markdown",
      "metadata": {},
      "source": [
        "In this problem, the probability that **all** guests put on their own shoes is $\\frac{1}{N!}$, which decreases rapidly as $N$ increases. For example, if there are 4 guests, the probability is:\n",
        "\n",
        "$$\n",
        "P(A) = \\frac{1}{4!} = \\frac{1}{24}\n",
        "$$\n"
      ]
    },
    {
      "cell_type": "markdown",
      "metadata": {},
      "source": [
        "___\n",
        "## Problem 2. Distinguished Shoes\n",
        "\n",
        "We continue with $N$ guests, each with a pair of shoes, and the guests cannot distinguish their shoes from others' except for knowing whether it's a left or right shoe.\n",
        "\n",
        "### Event B: All guests put on shoes from the same pair (which may not be their own).\n",
        "\n",
        "For this event to occur, every guest must randomly pick both the left and right shoe from the same pair of shoes. This means that they either get their own pair or another guest's pair, but the key is that the left and right shoes must belong to the same individual.\n",
        "\n",
        "### Order matters?  \n",
        "> Yes, because the probability depends on the exact pairs of shoes selected by each guest.\n",
        "\n",
        "### Arranging or choosing?  \n",
        "> Arranging\n",
        "\n",
        "### Formula:\n",
        "There are $N$ possible pairs (one for each guest). For each guest, they must choose the same left and right shoe. Hence, the probability that **all** guests pick a matching pair (from either their own or someone else’s shoes) is:\n",
        "\n",
        "$$\n",
        "P(B) = \\frac{N!}{N^{2N}}\n",
        "$$\n",
        "\n",
        "This accounts for the total number of ways to assign left and right shoes ($N^{2N}$) and the number of ways to ensure every guest ends up with a complete pair ($N!$).\n",
        "\n",
        "Now, let's simulate this event for verification.\n",
        "\n",
        "### Simulation Code\n"
      ]
    },
    {
      "cell_type": "code",
      "execution_count": 43,
      "metadata": {},
      "outputs": [
        {
          "name": "stdout",
          "output_type": "stream",
          "text": [
            "N = 2\n",
            "  Simulated probability of Event A: 0.49775\n",
            "  Simulated probability of Event B: 0.25\n",
            "N = 3\n",
            "  Simulated probability of Event A: 0.16557\n",
            "  Simulated probability of Event B: 0.03674\n",
            "N = 4\n",
            "  Simulated probability of Event A: 0.04123\n",
            "  Simulated probability of Event B: 0.00386\n"
          ]
        }
      ],
      "source": [
        "import random\n",
        "from math import factorial\n",
        "\n",
        "\n",
        "def simulate_event_a(n, trials=100_000):\n",
        "    \"\"\"Simulate Event A: All guests put on their own shoes.\"\"\"\n",
        "    success_count = 0\n",
        "    for _ in range(trials):\n",
        "        shoes = list(range(n))  # Represent each guest's shoes\n",
        "        random.shuffle(shoes)  # Shuffle the shoes\n",
        "        if shoes == list(range(n)):  # Check if everyone has their own shoes\n",
        "            success_count += 1\n",
        "    return success_count / trials\n",
        "\n",
        "\n",
        "def simulate_event_b(n, trials=100_000):\n",
        "    \"\"\"Simulate Event B: All guests put on shoes from the same pair.\"\"\"\n",
        "    success_count = 0\n",
        "    for _ in range(trials):\n",
        "        # Randomly select one pair for all guests\n",
        "        pair = random.randint(0, n - 1)  # Select a random pair (0 to n-1)\n",
        "        # Check if all guests picked the same pair\n",
        "        if all(random.randint(0, n - 1) == pair for _ in range(n)):\n",
        "            success_count += 1\n",
        "    return success_count / trials\n",
        "\n",
        "\n",
        "# Run the simulations again for N = 2 and N = 3 with the corrected Event B\n",
        "guest_counts = [2, 3, 4]\n",
        "for n in guest_counts:\n",
        "    prob_event_a = simulate_event_a(n)\n",
        "    prob_event_b_corrected = simulate_event_b(n)\n",
        "    print(f\"N = {n}\")\n",
        "    print(f\"  Simulated probability of Event A: {prob_event_a}\")\n",
        "    print(f\"  Simulated probability of Event B: {prob_event_b_corrected}\")"
      ]
    },
    {
      "cell_type": "markdown",
      "metadata": {
        "id": "qzhn1lUPRMkk"
      },
      "source": [
        "## Problem 3. Defectives (#distributions)\n",
        "\n",
        "Consider a box containing 3 defective parts and 5 working parts. Parts are drawn from the box one by one without replacement until the first good part is found. Let $X$ be the random variable representing the number of extractions required to find the first good part.\n",
        "\n",
        "1. Determine the cumulative distribution function (CDF) for the random variable $X$.\n",
        "\n",
        "2.  Plot the graph of the cumulative distribution function (CDF) for the random variable $X$.\n",
        "\n",
        "3. There are 5 cars that require a working part to be fixed. We randomly choose one part from the box and place it in the car, without replacement. If the part is a working part, then the car is fixed. Let Y be the random variable representing the number of fixed cars. What is the probability mass function (PMF) for $Y$.\n",
        "\n",
        "4. Write a simulation to verify your PMF from part 3.3."
      ]
    }
  ],
  "metadata": {
    "colab": {
      "provenance": []
    },
    "kernelspec": {
      "display_name": "Python 3",
      "name": "python3"
    },
    "language_info": {
      "codemirror_mode": {
        "name": "ipython",
        "version": 3
      },
      "file_extension": ".py",
      "mimetype": "text/x-python",
      "name": "python",
      "nbconvert_exporter": "python",
      "pygments_lexer": "ipython3",
      "version": "3.11.9"
    }
  },
  "nbformat": 4,
  "nbformat_minor": 0
}
