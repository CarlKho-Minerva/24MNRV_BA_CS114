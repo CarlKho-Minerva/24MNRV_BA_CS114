{
  "cells": [
    {
      "cell_type": "markdown",
      "metadata": {
        "id": "LWg0pafJIN6q"
      },
      "source": [
        "# CS114. Problem set 1.\n",
        "\n",
        "## Instructions\n",
        "\n",
        "* Complete the problems below. Show your work. Motivate your answers.\n",
        "* **No handwritten submissions.** You may upload either\n",
        "   * one Python notebook containing all your work, or\n",
        "   * a PDF with your text and math **and** a separate Python notebook with your code.\n",
        "* In addition to the LOs listed next to each problem, you will be graded on #cs114-MathTools, #cs114-CompTools, #composition, #organization, and #professionalism for the overall quality of your math, code, and explanations.\n",
        "* **Cite your sources.**\n",
        "   * List your collaborators (if any) — for example, \"Discussed Problem 1 with Ji-Won\". You may discuss ideas on how to solve the problems but not share code or writing. Basically, if you copy something someone else wrote or typed, you're doing the wrong thing. If you copy something from someone else and then modify it to look different, you are still doing the wrong thing. If you copy something from an AI tool, you are also doing the wrong thing.\n",
        "   * You may use code from class, but always cite the lesson and activity — for example, \"Lesson 13, breakout problem 2\".\n",
        "   * Cite all external sources used.\n",
        "   * **Do not use AI tools** for solving the problems in this assignment. The purpose of this assignment is to practice fairly standard types of probability problems. If you use AI tools to solve them, you miss out on the opportunity to puzzle out how the problems work and train your mind to think more clearly about these types of problems in the future."
      ]
    },
    {
      "cell_type": "markdown",
      "metadata": {
        "id": "L247jd_w7dMC"
      },
      "source": [
        "## Problem 1. License Plates (#probability)\n",
        "\n",
        "Argentinian license plates currently contain 7 characters: two letters, three numbers, and two more letters. There are 26 possible letters (A-Z) and 10 digits (0-9).\n",
        "\n",
        "Answer each of the questions below and carefully explain your answers."
      ]
    },
    {
      "cell_type": "markdown",
      "metadata": {
        "id": "Ch_mL448VxGh"
      },
      "source": [
        "1. How many different license plate arrangements are there?\n"
      ]
    },
    {
      "cell_type": "markdown",
      "metadata": {},
      "source": [
        "Order matters? \n",
        "> Yes.\n",
        "\n",
        "Arranging or choosing? \n",
        "> Arranging\n",
        "\n",
        "From these questions, we can deduce that this is a permutation problem.\n",
        "\n",
        "The formula for permutation is nPr.\n",
        "\n",
        "> n! / (n - r)!\n",
        "\n",
        "I like to say `from n, how many *P*ossible arrangements R there?`\n",
        "\n"
      ]
    },
    {
      "cell_type": "code",
      "execution_count": 6,
      "metadata": {},
      "outputs": [
        {
          "data": {
            "text/plain": [
              "'There are 720.0 ways to arrange 3 license plate arrangements out of 10 characters.'"
            ]
          },
          "execution_count": 7,
          "metadata": {},
          "output_type": "execute_result"
        }
      ],
      "source": [
        "from math import factorial\n",
        "\n",
        "# I turned github copilot off here.\n",
        "\n",
        "\n",
        "def permutation_formula(n, r):\n",
        "    \"\"\"\n",
        "    This function calculates the permutation of n objects taken r at a time.\n",
        "    \"\"\"\n",
        "    numerator = factorial(n)\n",
        "    denominator = factorial(n - r)\n",
        "    permutation = numerator / denominator\n",
        "\n",
        "    return f\"There are {permutation} ways to arrange {r} license plate arrangements out of {n} characters.\"\n",
        "\n",
        "\n",
        "# Test the function\n",
        "permutation_formula(10, 3)"
      ]
    },
    {
      "cell_type": "markdown",
      "metadata": {
        "id": "bcJv3uHOWYsX"
      },
      "source": [
        "2. What is the probability that a randomly chosen arrangement contains no repeated characters?"
      ]
    },
    {
      "cell_type": "markdown",
      "metadata": {
        "id": "xbfEANgsWRwT"
      },
      "source": [
        "3. What is the probability that a randomly chosen arrangement is a palyndrome (that is, it reads the same from left to right or right to left)?"
      ]
    },
    {
      "cell_type": "markdown",
      "metadata": {
        "id": "LlUeZP8Phmrw"
      },
      "source": [
        "4. Write a simulation to verify your results to problems 1.2 and 1.3."
      ]
    },
    {
      "cell_type": "markdown",
      "metadata": {
        "id": "LtMmNDY9tsGm"
      },
      "source": [
        "## Problem 2. Distinguished shoes (#probability)\n",
        "\n",
        "$N$ guests with the same shoe size are putting on shoes in the dark as they leave the apartment. Each of them can distinguish a right shoe from a left shoe, but they cannot distinguish their own shoes from those of others. Find the probabilities of the following events:\n",
        "\n",
        "1. **Event A:** All guests put on their own shoes.\n",
        "2. **Event B:** All guests put on shoes from the same pair (which may not be their own).\n",
        "\n",
        "Write a simulation to verify your answers to problems 2.1 and 2.2."
      ]
    },
    {
      "cell_type": "markdown",
      "metadata": {
        "id": "qzhn1lUPRMkk"
      },
      "source": [
        "## Problem 3. Defectives (#distributions)\n",
        "\n",
        "Consider a box containing 3 defective parts and 5 working parts. Parts are drawn from the box one by one without replacement until the first good part is found. Let $X$ be the random variable representing the number of extractions required to find the first good part.\n",
        "\n",
        "1. Determine the cumulative distribution function (CDF) for the random variable $X$.\n",
        "\n",
        "2.  Plot the graph of the cumulative distribution function (CDF) for the random variable $X$.\n",
        "\n",
        "3. There are 5 cars that require a working part to be fixed. We randomly choose one part from the box and place it in the car, without replacement. If the part is a working part, then the car is fixed. Let Y be the random variable representing the number of fixed cars. What is the probability mass function (PMF) for $Y$.\n",
        "\n",
        "4. Write a simulation to verify your PMF from part 3.3."
      ]
    }
  ],
  "metadata": {
    "colab": {
      "provenance": []
    },
    "kernelspec": {
      "display_name": "Python 3",
      "name": "python3"
    },
    "language_info": {
      "codemirror_mode": {
        "name": "ipython",
        "version": 3
      },
      "file_extension": ".py",
      "mimetype": "text/x-python",
      "name": "python",
      "nbconvert_exporter": "python",
      "pygments_lexer": "ipython3",
      "version": "3.11.9"
    }
  },
  "nbformat": 4,
  "nbformat_minor": 0
}
