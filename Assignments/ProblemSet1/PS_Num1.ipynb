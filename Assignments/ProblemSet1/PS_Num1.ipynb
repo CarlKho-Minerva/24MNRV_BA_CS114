{
  "cells": [
    {
      "cell_type": "markdown",
      "metadata": {
        "id": "LWg0pafJIN6q"
      },
      "source": [
        "# CS114. Problem set 1"
      ]
    },
    {
      "cell_type": "markdown",
      "metadata": {
        "id": "L247jd_w7dMC"
      },
      "source": [
        "## Problem 1. License Plates (#probability)\n",
        "\n",
        "> Argentinian license plates currently contain 7 characters: two letters, three numbers, and two more letters. There are 26 possible letters (A-Z) and 10 digits (0-9)."
      ]
    },
    {
      "cell_type": "markdown",
      "metadata": {
        "id": "Ch_mL448VxGh"
      },
      "source": [
        "### 1. How many different license plate arrangements are there?\n",
        "\n",
        "Let $L$ be the number of possible letters (26) and $D$ be the number of possible digits (10).  \n",
        "\n",
        "The license plate format is L L D D D L L.\n",
        "\n",
        "* For the first letter, there are $L$ choices.\n",
        "* For the second letter, there are $L$ choices.\n",
        "* For the first digit, there are $D$ choices.\n",
        "* For the second digit, there are $D$ choices.\n",
        "* For the third digit, there are $D$ choices.\n",
        "* For the third letter, there are $L$ choices.\n",
        "* For the fourth letter, there are $L$ choices.\n",
        "\n",
        "> Examples: MF112KF / DL831DP / EC191GU /JW378RW / BA554CB\n",
        "\n",
        "Since the choice of each character (letter or digit) is independent of the others, the selection of one character does not affect the probability of selecting any other character. Therefore, we multiply the number of choices for each position to find the total number of different arrangements.\n",
        "\n",
        "$$\n",
        "L \\times L \\times D \\times D \\times D \\times L \\times L \n",
        "$$\n",
        "\n",
        "$$\n",
        "L^4 \\times D^3\n",
        "$$\n",
        "\n",
        "Substituting $L=26$ and $D=10$, we get total arrangements:\n",
        "\n",
        "$$\n",
        "26^4 \\times 10^3 = 456,976,000\n",
        "$$\n",
        "\n",
        "Therefore, there are 456,976,000 different possible license plate arrangements.\n"
      ]
    },
    {
      "cell_type": "code",
      "execution_count": 8,
      "metadata": {},
      "outputs": [
        {
          "name": "stdout",
          "output_type": "stream",
          "text": [
            "\n",
            "Total possible license plate arrangements (theoretical): 456976000\n"
          ]
        }
      ],
      "source": [
        "letters = 26\n",
        "digits = 10\n",
        "\n",
        "total_arrangements = (letters**4) * (digits**3)\n",
        "\n",
        "print(\n",
        "    f\"\\nTotal possible license plate arrangements (theoretical): {total_arrangements}\"\n",
        ")"
      ]
    },
    {
      "cell_type": "markdown",
      "metadata": {
        "id": "bcJv3uHOWYsX"
      },
      "source": [
        "### 2. What is the probability that a randomly chosen arrangement contains no repeated characters?"
      ]
    },
    {
      "cell_type": "markdown",
      "metadata": {},
      "source": [
        "Let $L$ be the number of possible letters (26) and $D$ be the number of possible digits (10). The license plate format is L L D D D L L.\n",
        "\n",
        "To have no repeated characters, we must choose each character without replacement.\n",
        "\n",
        "* For the first letter, there are $L$ choices.\n",
        "* For the second letter, there are $L-1$ choices.\n",
        "* For the first digit, there are $D$ choices.\n",
        "* For the second digit, there are $D-1$ choices.\n",
        "* For the third digit, there are $D-2$ choices.\n",
        "* For the third letter, there are $L-2$ choices.\n",
        "* For the fourth letter, there are $L-3$ choices.\n",
        "\n",
        "\n",
        "The number of arrangements with no repeated characters is:  \n",
        "\n",
        "\n",
        "$L \\times (L-1) \\times D \\times (D-1) \\times (D-2) \\times (L-2) \\times (L-3)$\n",
        "\n",
        "$= 26 \\times 25 \\times 10 \\times 9 \\times 8 \\times 24 \\times 23$ \n",
        "\n",
        "$= 258,336,000$.\n",
        "\n",
        "The total number of possible arrangements (calculated in the previous part) is $L^4 \\times D^3 = 26^4 \\times 10^3 = 456,976,000$.\n",
        "\n",
        "The probability of a randomly chosen arrangement having no repeated characters is the number of arrangements with no repetitions divided by the total number of possible arrangements:\n",
        "\n",
        "$$\n",
        "P(\\text{no repetitions}) = \\frac{26 \\times 25 \\times 10 \\times 9 \\times 8 \\times 24 \\times 23}{26^4 \\times 10^3} = \\frac{258,336,000}{456,976,000} \\approx 0.565 \\text{ or } 56.5\\%\n",
        "$$"
      ]
    },
    {
      "cell_type": "code",
      "execution_count": 2,
      "metadata": {},
      "outputs": [
        {
          "name": "stdout",
          "output_type": "stream",
          "text": [
            "Probability of no repeated characters: 0.5653163404642695\n"
          ]
        }
      ],
      "source": [
        "letters = 26\n",
        "digits = 10\n",
        "\n",
        "no_repetitions_arrangements = (\n",
        "    letters\n",
        "    * (letters - 1)\n",
        "    * digits\n",
        "    * (digits - 1)\n",
        "    * (digits - 2)\n",
        "    * (letters - 2)\n",
        "    * (letters - 3)\n",
        ")\n",
        "\n",
        "\n",
        "probability_no_repetitions = (\n",
        "    no_repetitions_arrangements / total_arrangements\n",
        ")\n",
        "\n",
        "print(f\"Probability of no repeated characters: {probability_no_repetitions}\")"
      ]
    },
    {
      "cell_type": "markdown",
      "metadata": {
        "id": "xbfEANgsWRwT"
      },
      "source": [
        "### 3. What is the probability that a randomly chosen arrangement is a palindrome?"
      ]
    },
    {
      "cell_type": "markdown",
      "metadata": {},
      "source": [
        "A palindrome is a sequence that reads the same forwards and backward.  For a 7-character license plate (L L D D D L L) to be a palindrome, the following conditions must hold:\n",
        "\n",
        "* The first letter must be the same as the last letter.\n",
        "* The second letter must be the same as the second-to-last letter.\n",
        "* The first digit must be the same as the third digit.  The middle digit can be any digit.\n",
        "\n",
        "The arrangement must be of the form  L<sub>1</sub> L<sub>2</sub> D<sub>1</sub> D<sub>2</sub> D<sub>1</sub> L<sub>2</sub> L<sub>1</sub>. More clarifications:\n",
        "\n",
        "* **Letters:**\n",
        "    * The first letter (L<sub>1</sub>) can be any of the $L$ choices. This also determines the last letter. \n",
        "      * For example, if L<sub>1</sub> is 'A', then the last letter must also be 'A'.\n",
        "    * The second letter (L<sub>2</sub>) can be any of the $L$ choices. This determines the second-to-last letter.\n",
        "      * For example, if L<sub>2</sub> is 'B', then the second-to-last letter must also be 'B'.\n",
        "* **Digits:**\n",
        "    * The first digit (D<sub>1</sub>) can be any of the $D$ choices. This also determines the third digit.\n",
        "      * For example, if D<sub>1</sub> is '1', then the third digit must also be '1'.\n",
        "    * The middle digit (D<sub>2</sub>) is free to be any digit because it is in the center and doesn't need to mirror anything—it's the same from both directions.\n",
        "      * For example, D<sub>2</sub> can be any digit from '0' to '9'.\n",
        "\n",
        "So, a palindromic license plate could look like: \n",
        "$$\n",
        "A B 1 2 1 B A\n",
        "$$\n",
        "\n",
        "\n",
        "The number of palindromic arrangements is:\n",
        "\n",
        "$L \\times L \\times D \\times D = L^2 \\times D^2 = 26^2 \\times 10^2 = 67,600$\n",
        "\n",
        "The total number of arrangements is $L^4 \\times D^3 = 26^4 \\times 10^3 = 456,976,000$.\n",
        "\n",
        "The probability of a palindromic arrangement is:\n",
        "\n",
        "$P(\\text{palindrome}) = \\frac{\\text{Number of palindromic arrangements}}{\\text{Total number of arrangements}} = \\frac{67,600}{456,976,000} \\approx 0.000148 \\text{ or } 0.0148\\%$"
      ]
    },
    {
      "cell_type": "code",
      "execution_count": 3,
      "metadata": {},
      "outputs": [
        {
          "name": "stdout",
          "output_type": "stream",
          "text": [
            "Probability of a palindrome: 0.00014792899408284024\n"
          ]
        }
      ],
      "source": [
        "# Problem 1: License Plates - Python Simulation (Probability of a palindrome)\n",
        "\n",
        "letters = 26\n",
        "digits = 10\n",
        "\n",
        "total_arrangements = (letters**4) * (digits**3)\n",
        "palindrome_arrangements = (letters**2) * (digits**2)\n",
        "\n",
        "probability_palindrome = palindrome_arrangements / total_arrangements\n",
        "\n",
        "print(f\"Probability of a palindrome: {probability_palindrome}\")"
      ]
    },
    {
      "cell_type": "markdown",
      "metadata": {
        "id": "LlUeZP8Phmrw"
      },
      "source": [
        "### 4. Write a simulation to verify your results to problems 1.2 and 1.3.\n",
        "\n",
        "In the spirit of #CS110_AlgoStratDataStruct, I will take my time to explain what my code is, how it works, and **why** it works."
      ]
    },
    {
      "cell_type": "markdown",
      "metadata": {},
      "source": [
        "The goal is to verify the theoretical probabilities calculated in parts 2 and 3 using a Monte Carlo simulation. A Monte Carlo simulation involves generating a large number of random samples and observing the frequency of specific events within those samples.\n",
        "\n",
        "##### **Function:** `generate_license_plate(letters, digits)`\n",
        "\n",
        "This function simulates the creation of a random Argentinian license plate. It provides a way to generate random license plates, essential for running the simulation.\n",
        "\n",
        "**How it works:** It creates a list of characters by randomly choosing two letters, three digits, and then two more letters, concatenating them into a single string representing the license plate."
      ]
    },
    {
      "cell_type": "code",
      "execution_count": 4,
      "metadata": {},
      "outputs": [
        {
          "name": "stdout",
          "output_type": "stream",
          "text": [
            "YQ070XU\n"
          ]
        }
      ],
      "source": [
        "import random\n",
        "\n",
        "list_alphabet = \"ABCDEFGHIJKLMNOPQRSTUVWXYZ\"\n",
        "list_digits = \"0123456789\"\n",
        "\n",
        "\n",
        "def generate_license_plate(letters=26, digits=10):\n",
        "    \"\"\"Generates a random license plate.\"\"\"\n",
        "    chars = []\n",
        "    chars.extend(random.choices(list_alphabet, k=2))\n",
        "    chars.extend(random.choices(list_digits, k=3))\n",
        "    chars.extend(random.choices(list_alphabet, k=2))\n",
        "    return \"\".join(chars)\n",
        "\n",
        "\n",
        "# Example usage\n",
        "print(generate_license_plate())\n",
        "# Example output: 'AB123CD'"
      ]
    },
    {
      "cell_type": "markdown",
      "metadata": {},
      "source": [
        "##### **Function:** `is_palindrome(plate)`\n",
        "\n",
        "This function checks if a given license plate string is a palindrome. It determines whether a generated license plate satisfies the palindrome condition for the simulation.\n",
        "\n",
        "**How it works:** It compares the license plate string to its reverse. If they are identical, the function returns True; otherwise, it returns False."
      ]
    },
    {
      "cell_type": "code",
      "execution_count": 5,
      "metadata": {},
      "outputs": [
        {
          "name": "stdout",
          "output_type": "stream",
          "text": [
            "True\n",
            "False\n"
          ]
        }
      ],
      "source": [
        "def is_palindrome(plate):\n",
        "    \"\"\"Checks if a license plate is a palindrome.\"\"\"\n",
        "    return plate == plate[::-1]\n",
        "\n",
        "\n",
        "# Example Usage\n",
        "print(is_palindrome(\"AB121BA\"))  # True\n",
        "print(is_palindrome(\"AB123CD\"))  # False"
      ]
    },
    {
      "cell_type": "markdown",
      "metadata": {},
      "source": [
        "##### **Function:** `has_no_repetitions(plate)`\n",
        "\n",
        "This function checks if a given license plate contains no repeated characters. It determines whether a generated license plate meets the no-repetition criterion for the simulation.\n",
        "\n",
        "**How it works:** It uses the `set()` function to create a collection of unique characters in the plate. If the length of the set is equal to the length of the original plate string, it means there are no repetitions, and the function returns `True`; otherwise, it returns `False`."
      ]
    },
    {
      "cell_type": "code",
      "execution_count": 6,
      "metadata": {},
      "outputs": [
        {
          "name": "stdout",
          "output_type": "stream",
          "text": [
            "True\n",
            "False\n"
          ]
        }
      ],
      "source": [
        "def has_no_repetitions(plate):\n",
        "    \"\"\"Checks if a license plate has no repeated characters.\"\"\"\n",
        "    return len(set(plate)) == len(plate)\n",
        "\n",
        "\n",
        "# Example Usage\n",
        "print(has_no_repetitions(\"AB123CD\"))  # True\n",
        "print(has_no_repetitions(\"AA123CD\"))  # False"
      ]
    },
    {
      "cell_type": "markdown",
      "metadata": {},
      "source": [
        "##### **Function:** `run_simulation(num_trials)`\n",
        "\n",
        "This function executes the Monte Carlo simulation. It is the core of the simulation process and estimates probabilities based on a large number of trials.\n",
        "\n",
        "**How it works:**\n",
        "\n",
        "- It initializes counters for palindromes and non-repeating plates.\n",
        "- It loops `num_trials` times, generating a license plate in each iteration.\n",
        "- Within the loop, it checks if the generated plate is a palindrome and if it has no repeated characters, incrementing the respective counters.\n",
        "- Finally, it calculates the estimated probabilities by dividing the counts by the total number of trials."
      ]
    },
    {
      "cell_type": "code",
      "execution_count": 11,
      "metadata": {},
      "outputs": [
        {
          "name": "stdout",
          "output_type": "stream",
          "text": [
            "Simulation Results (10000000 trials):\n",
            "  Probability of no repeated characters: 0.5656028\n",
            "  Probability of a palindrome: 0.0001482\n",
            "Theoretical Results:\n",
            "  Probability of no repeated characters: 0.5653163404642695\n",
            "  Probability of a palindrome: 0.00014792899408284024\n"
          ]
        }
      ],
      "source": [
        "def run_simulation(num_trials):\n",
        "    \"\"\"Runs a Monte Carlo simulation to estimate probabilities.\"\"\"\n",
        "    letters = 26\n",
        "    digits = 10\n",
        "\n",
        "    palindrome_count = 0\n",
        "    no_repetitions_count = 0\n",
        "\n",
        "    for _ in range(num_trials):\n",
        "        plate = generate_license_plate(letters, digits)\n",
        "        if is_palindrome(plate):\n",
        "            palindrome_count += 1\n",
        "        if has_no_repetitions(plate):\n",
        "            no_repetitions_count += 1\n",
        "\n",
        "    simulated_prob_palindrome = palindrome_count / num_trials\n",
        "    simulated_prob_no_repetitions = no_repetitions_count / num_trials\n",
        "\n",
        "    return simulated_prob_palindrome, simulated_prob_no_repetitions\n",
        "\n",
        "\n",
        "# running the simulation\n",
        "num_trials = 10_000_000\n",
        "simulated_prob_palindrome, simulated_prob_no_repetitions = run_simulation(num_trials)\n",
        "\n",
        "print(f\"Simulation Results ({num_trials} trials):\")\n",
        "print(f\"  Probability of no repeated characters: {simulated_prob_no_repetitions}\")\n",
        "print(f\"  Probability of a palindrome: {simulated_prob_palindrome}\")\n",
        "\n",
        "print(f\"Theoretical Results:\")\n",
        "print(f\"  Probability of no repeated characters: {probability_no_repetitions}\")\n",
        "print(f\"  Probability of a palindrome: {probability_palindrome}\")"
      ]
    }
  ],
  "metadata": {
    "colab": {
      "provenance": []
    },
    "kernelspec": {
      "display_name": "Python 3",
      "name": "python3"
    },
    "language_info": {
      "codemirror_mode": {
        "name": "ipython",
        "version": 3
      },
      "file_extension": ".py",
      "mimetype": "text/x-python",
      "name": "python",
      "nbconvert_exporter": "python",
      "pygments_lexer": "ipython3",
      "version": "3.11.9"
    }
  },
  "nbformat": 4,
  "nbformat_minor": 0
}
