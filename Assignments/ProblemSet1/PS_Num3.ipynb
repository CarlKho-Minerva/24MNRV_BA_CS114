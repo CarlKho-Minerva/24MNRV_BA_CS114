{
 "cells": [
  {
   "cell_type": "markdown",
   "metadata": {},
   "source": [
    "## Problem 3. Defectives (#distributions)\n",
    "\n",
    "Consider a box containing 3 defective parts and 5 working parts. Parts are drawn from the box one by one without replacement until the first good part is found. Let $X$ be the random variable representing the number of extractions required to find the first good part.\n",
    "\n",
    "1. Determine the cumulative distribution function (CDF) for the random variable $X$.\n",
    "\n",
    "2.  Plot the graph of the cumulative distribution function (CDF) for the random variable $X$.\n",
    "\n",
    "3. There are 5 cars that require a working part to be fixed. We randomly choose one part from the box and place it in the car, without replacement. If the part is a working part, then the car is fixed. Let Y be the random variable representing the number of fixed cars. What is the probability mass function (PMF) for $Y$.\n",
    "\n",
    "4. Write a simulation to verify your PMF from part 3.3."
   ]
  },
  {
   "cell_type": "markdown",
   "metadata": {},
   "source": []
  }
 ],
 "metadata": {
  "language_info": {
   "name": "python"
  }
 },
 "nbformat": 4,
 "nbformat_minor": 2
}
