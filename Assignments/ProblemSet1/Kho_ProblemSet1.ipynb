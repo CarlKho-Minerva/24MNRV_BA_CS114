{
 "cells": [
  {
   "cell_type": "markdown",
   "metadata": {},
   "source": [
    "# CS114. Problem set 1"
   ]
  },
  {
   "cell_type": "markdown",
   "metadata": {},
   "source": [
    "## Problem 1. License Plates (#probability)\n",
    "\n",
    "> Argentinian license plates currently contain 7 characters: two letters, three numbers, and two more letters. There are 26 possible letters (A-Z) and 10 digits (0-9)."
   ]
  },
  {
   "cell_type": "markdown",
   "metadata": {},
   "source": [
    "### 1. How many different license plate arrangements are there?\n",
    "\n",
    "Let $L$ be the number of possible letters (26) and $D$ be the number of possible digits (10).  \n",
    "\n",
    "The license plate format is L L D D D L L.\n",
    "\n",
    "* For the first letter, there are $L$ choices.\n",
    "* For the second letter, there are $L$ choices.\n",
    "* For the first digit, there are $D$ choices.\n",
    "* For the second digit, there are $D$ choices.\n",
    "* For the third digit, there are $D$ choices.\n",
    "* For the third letter, there are $L$ choices.\n",
    "* For the fourth letter, there are $L$ choices.\n",
    "\n",
    "> Examples: MF112KF / DL831DP / EC191GU /JW378RW / BA554CB\n",
    "\n",
    "Since the choice of each character (letter or digit) is independent of the others, the selection of one character does not affect the probability of selecting any other character. Therefore, we multiply the number of choices for each position to find the total number of different arrangements.\n",
    "\n",
    "$$\n",
    "L \\times L \\times D \\times D \\times D \\times L \\times L \n",
    "$$\n",
    "\n",
    "$$\n",
    "L^4 \\times D^3\n",
    "$$\n",
    "\n",
    "Substituting $L=26$ and $D=10$, we get total arrangements:\n",
    "\n",
    "$$\n",
    "26^4 \\times 10^3 = 456,976,000\n",
    "$$\n",
    "\n",
    "Therefore, there are 456,976,000 different possible license plate arrangements.\n"
   ]
  },
  {
   "cell_type": "code",
   "execution_count": null,
   "metadata": {},
   "outputs": [
    {
     "name": "stdout",
     "output_type": "stream",
     "text": [
      "\n",
      "Total possible license plate arrangements (theoretical): 456976000\n"
     ]
    }
   ],
   "source": [
    "letters = 26\n",
    "digits = 10\n",
    "\n",
    "total_arrangements = (letters**4) * (digits**3)\n",
    "\n",
    "print(\n",
    "    f\"\\nTotal possible license plate arrangements (theoretical): {total_arrangements}\"\n",
    ")"
   ]
  },
  {
   "cell_type": "markdown",
   "metadata": {},
   "source": [
    "### 2. What is the probability that a randomly chosen arrangement contains no repeated characters?"
   ]
  },
  {
   "cell_type": "markdown",
   "metadata": {},
   "source": [
    "Let $L$ be the number of possible letters (26) and $D$ be the number of possible digits (10). The license plate format is L L D D D L L.\n",
    "\n",
    "To have no repeated characters, we must choose each character without replacement.\n",
    "\n",
    "* For the first letter, there are $L$ choices.\n",
    "* For the second letter, there are $L-1$ choices.\n",
    "* For the first digit, there are $D$ choices.\n",
    "* For the second digit, there are $D-1$ choices.\n",
    "* For the third digit, there are $D-2$ choices.\n",
    "* For the third letter, there are $L-2$ choices.\n",
    "* For the fourth letter, there are $L-3$ choices.\n",
    "\n",
    "\n",
    "The number of arrangements with no repeated characters is:  \n",
    "\n",
    "\n",
    "$L \\times (L-1) \\times D \\times (D-1) \\times (D-2) \\times (L-2) \\times (L-3)$\n",
    "\n",
    "$= 26 \\times 25 \\times 10 \\times 9 \\times 8 \\times 24 \\times 23$ \n",
    "\n",
    "$= 258,336,000$.\n",
    "\n",
    "The total number of possible arrangements (calculated in the previous part) is $L^4 \\times D^3 = 26^4 \\times 10^3 = 456,976,000$.\n",
    "\n",
    "The probability of a randomly chosen arrangement having no repeated characters is the number of arrangements with no repetitions divided by the total number of possible arrangements:\n",
    "\n",
    "$$\n",
    "P(\\text{no repetitions}) = \\frac{26 \\times 25 \\times 10 \\times 9 \\times 8 \\times 24 \\times 23}{26^4 \\times 10^3} = \\frac{258,336,000}{456,976,000} \\approx 0.565 \\text{ or } 56.5\\%\n",
    "$$"
   ]
  },
  {
   "cell_type": "code",
   "execution_count": null,
   "metadata": {},
   "outputs": [
    {
     "name": "stdout",
     "output_type": "stream",
     "text": [
      "Probability of no repeated characters: 0.5653163404642695\n"
     ]
    }
   ],
   "source": [
    "letters = 26\n",
    "digits = 10\n",
    "\n",
    "no_repetitions_arrangements = (\n",
    "    letters\n",
    "    * (letters - 1)\n",
    "    * digits\n",
    "    * (digits - 1)\n",
    "    * (digits - 2)\n",
    "    * (letters - 2)\n",
    "    * (letters - 3)\n",
    ")\n",
    "\n",
    "\n",
    "probability_no_repetitions = (\n",
    "    no_repetitions_arrangements / total_arrangements\n",
    ")\n",
    "\n",
    "print(f\"Probability of no repeated characters: {probability_no_repetitions}\")"
   ]
  },
  {
   "cell_type": "markdown",
   "metadata": {},
   "source": [
    "### 3. What is the probability that a randomly chosen arrangement is a palindrome?"
   ]
  },
  {
   "cell_type": "markdown",
   "metadata": {},
   "source": [
    "A palindrome is a sequence that reads the same forwards and backward.  For a 7-character license plate (L L D D D L L) to be a palindrome, the following conditions must hold:\n",
    "\n",
    "* The first letter must be the same as the last letter.\n",
    "* The second letter must be the same as the second-to-last letter.\n",
    "* The first digit must be the same as the third digit.  The middle digit can be any digit.\n",
    "\n",
    "The arrangement must be of the form  L<sub>1</sub> L<sub>2</sub> D<sub>1</sub> D<sub>2</sub> D<sub>1</sub> L<sub>2</sub> L<sub>1</sub>. More clarifications:\n",
    "\n",
    "* **Letters:**\n",
    "    * The first letter (L<sub>1</sub>) can be any of the $L$ choices. This also determines the last letter. \n",
    "      * For example, if L<sub>1</sub> is 'A', then the last letter must also be 'A'.\n",
    "    * The second letter (L<sub>2</sub>) can be any of the $L$ choices. This determines the second-to-last letter.\n",
    "      * For example, if L<sub>2</sub> is 'B', then the second-to-last letter must also be 'B'.\n",
    "* **Digits:**\n",
    "    * The first digit (D<sub>1</sub>) can be any of the $D$ choices. This also determines the third digit.\n",
    "      * For example, if D<sub>1</sub> is '1', then the third digit must also be '1'.\n",
    "    * The middle digit (D<sub>2</sub>) is free to be any digit because it is in the center and doesn't need to mirror anything—it's the same from both directions.\n",
    "      * For example, D<sub>2</sub> can be any digit from '0' to '9'.\n",
    "\n",
    "So, a palindromic license plate could look like: \n",
    "$$\n",
    "A B 1 2 1 B A\n",
    "$$\n",
    "\n",
    "\n",
    "The number of palindromic arrangements is:\n",
    "\n",
    "$L \\times L \\times D \\times D = L^2 \\times D^2 = 26^2 \\times 10^2 = 67,600$\n",
    "\n",
    "The total number of arrangements is $L^4 \\times D^3 = 26^4 \\times 10^3 = 456,976,000$.\n",
    "\n",
    "The probability of a palindromic arrangement is:\n",
    "\n",
    "$P(\\text{palindrome}) = \\frac{\\text{Number of palindromic arrangements}}{\\text{Total number of arrangements}} = \\frac{67,600}{456,976,000} \\approx 0.000148 \\text{ or } 0.0148\\%$"
   ]
  },
  {
   "cell_type": "code",
   "execution_count": null,
   "metadata": {},
   "outputs": [
    {
     "name": "stdout",
     "output_type": "stream",
     "text": [
      "Probability of a palindrome: 0.00014792899408284024\n"
     ]
    }
   ],
   "source": [
    "# Problem 1: License Plates - Python Simulation (Probability of a palindrome)\n",
    "\n",
    "letters = 26\n",
    "digits = 10\n",
    "\n",
    "total_arrangements = (letters**4) * (digits**3)\n",
    "palindrome_arrangements = (letters**2) * (digits**2)\n",
    "\n",
    "probability_palindrome = palindrome_arrangements / total_arrangements\n",
    "\n",
    "print(f\"Probability of a palindrome: {probability_palindrome}\")"
   ]
  },
  {
   "cell_type": "markdown",
   "metadata": {},
   "source": [
    "### 4. Write a simulation to verify your results to problems 1.2 and 1.3.\n",
    "\n",
    "In the spirit of #CS110_AlgoStratDataStruct, I will take my time to explain what my code is, how it works, and **why** it works."
   ]
  },
  {
   "cell_type": "markdown",
   "metadata": {},
   "source": [
    "The goal is to verify the theoretical probabilities calculated in parts 2 and 3 using a Monte Carlo simulation. A Monte Carlo simulation involves generating a large number of random samples and observing the frequency of specific events within those samples.\n",
    "\n",
    "##### **Function:** `generate_license_plate(letters, digits)`\n",
    "\n",
    "This function simulates the creation of a random Argentinian license plate. It provides a way to generate random license plates, essential for running the simulation.\n",
    "\n",
    "**How it works:** It creates a list of characters by randomly choosing two letters, three digits, and then two more letters, concatenating them into a single string representing the license plate."
   ]
  },
  {
   "cell_type": "code",
   "execution_count": null,
   "metadata": {},
   "outputs": [
    {
     "name": "stdout",
     "output_type": "stream",
     "text": [
      "YQ070XU\n"
     ]
    }
   ],
   "source": [
    "import random\n",
    "\n",
    "list_alphabet = \"ABCDEFGHIJKLMNOPQRSTUVWXYZ\"\n",
    "list_digits = \"0123456789\"\n",
    "\n",
    "\n",
    "def generate_license_plate(letters=26, digits=10):\n",
    "    \"\"\"Generates a random license plate.\"\"\"\n",
    "    chars = []\n",
    "    chars.extend(random.choices(list_alphabet, k=2))\n",
    "    chars.extend(random.choices(list_digits, k=3))\n",
    "    chars.extend(random.choices(list_alphabet, k=2))\n",
    "    return \"\".join(chars)\n",
    "\n",
    "\n",
    "# Example usage\n",
    "print(generate_license_plate())\n",
    "# Example output: 'AB123CD'"
   ]
  },
  {
   "cell_type": "markdown",
   "metadata": {},
   "source": [
    "##### **Function:** `is_palindrome(plate)`\n",
    "\n",
    "This function checks if a given license plate string is a palindrome. It determines whether a generated license plate satisfies the palindrome condition for the simulation.\n",
    "\n",
    "**How it works:** It compares the license plate string to its reverse. If they are identical, the function returns True; otherwise, it returns False."
   ]
  },
  {
   "cell_type": "code",
   "execution_count": null,
   "metadata": {},
   "outputs": [
    {
     "name": "stdout",
     "output_type": "stream",
     "text": [
      "True\n",
      "False\n"
     ]
    }
   ],
   "source": [
    "def is_palindrome(plate):\n",
    "    \"\"\"Checks if a license plate is a palindrome.\"\"\"\n",
    "    return plate == plate[::-1]\n",
    "\n",
    "\n",
    "# Example Usage\n",
    "print(is_palindrome(\"AB121BA\"))  # True\n",
    "print(is_palindrome(\"AB123CD\"))  # False"
   ]
  },
  {
   "cell_type": "markdown",
   "metadata": {},
   "source": [
    "##### **Function:** `has_no_repetitions(plate)`\n",
    "\n",
    "This function checks if a given license plate contains no repeated characters. It determines whether a generated license plate meets the no-repetition criterion for the simulation.\n",
    "\n",
    "**How it works:** It uses the `set()` function to create a collection of unique characters in the plate. If the length of the set is equal to the length of the original plate string, it means there are no repetitions, and the function returns `True`; otherwise, it returns `False`."
   ]
  },
  {
   "cell_type": "code",
   "execution_count": null,
   "metadata": {},
   "outputs": [
    {
     "name": "stdout",
     "output_type": "stream",
     "text": [
      "True\n",
      "False\n"
     ]
    }
   ],
   "source": [
    "def has_no_repetitions(plate):\n",
    "    \"\"\"Checks if a license plate has no repeated characters.\"\"\"\n",
    "    return len(set(plate)) == len(plate)\n",
    "\n",
    "\n",
    "# Example Usage\n",
    "print(has_no_repetitions(\"AB123CD\"))  # True\n",
    "print(has_no_repetitions(\"AA123CD\"))  # False"
   ]
  },
  {
   "cell_type": "markdown",
   "metadata": {},
   "source": [
    "##### **Function:** `run_simulation(num_trials)`\n",
    "\n",
    "This function executes the Monte Carlo simulation. It is the core of the simulation process and estimates probabilities based on a large number of trials.\n",
    "\n",
    "**How it works:**\n",
    "\n",
    "- It initializes counters for palindromes and non-repeating plates.\n",
    "- It loops `num_trials` times, generating a license plate in each iteration.\n",
    "- Within the loop, it checks if the generated plate is a palindrome and if it has no repeated characters, incrementing the respective counters.\n",
    "- Finally, it calculates the estimated probabilities by dividing the counts by the total number of trials."
   ]
  },
  {
   "cell_type": "code",
   "execution_count": null,
   "metadata": {},
   "outputs": [
    {
     "name": "stdout",
     "output_type": "stream",
     "text": [
      "Simulation Results (10000000 trials):\n",
      "  Probability of no repeated characters: 0.5656028\n",
      "  Probability of a palindrome: 0.0001482\n",
      "Theoretical Results:\n",
      "  Probability of no repeated characters: 0.5653163404642695\n",
      "  Probability of a palindrome: 0.00014792899408284024\n"
     ]
    }
   ],
   "source": [
    "def run_simulation(num_trials):\n",
    "    \"\"\"Runs a Monte Carlo simulation to estimate probabilities.\"\"\"\n",
    "    letters = 26\n",
    "    digits = 10\n",
    "\n",
    "    palindrome_count = 0\n",
    "    no_repetitions_count = 0\n",
    "\n",
    "    for _ in range(num_trials):\n",
    "        plate = generate_license_plate(letters, digits)\n",
    "        if is_palindrome(plate):\n",
    "            palindrome_count += 1\n",
    "        if has_no_repetitions(plate):\n",
    "            no_repetitions_count += 1\n",
    "\n",
    "    simulated_prob_palindrome = palindrome_count / num_trials\n",
    "    simulated_prob_no_repetitions = no_repetitions_count / num_trials\n",
    "\n",
    "    return simulated_prob_palindrome, simulated_prob_no_repetitions\n",
    "\n",
    "\n",
    "# running the simulation\n",
    "num_trials = 10_000_000\n",
    "simulated_prob_palindrome, simulated_prob_no_repetitions = run_simulation(num_trials)\n",
    "\n",
    "print(f\"Simulation Results ({num_trials} trials):\")\n",
    "print(f\"  Probability of no repeated characters: {simulated_prob_no_repetitions}\")\n",
    "print(f\"  Probability of a palindrome: {simulated_prob_palindrome}\")\n",
    "\n",
    "print(f\"Theoretical Results:\")\n",
    "print(f\"  Probability of no repeated characters: {probability_no_repetitions}\")\n",
    "print(f\"  Probability of a palindrome: {probability_palindrome}\")"
   ]
  },
  {
   "cell_type": "markdown",
   "metadata": {},
   "source": [
    "## Problem 2. Distinguished shoes (#probability)\n",
    "\n",
    "$N$ guests with the same shoe size are putting on shoes in the dark as they leave the apartment. Each of them can distinguish a right shoe from a left shoe, but they cannot distinguish their own shoes from those of others. Find the probabilities of the following events:\n",
    "\n",
    "### **Event A:** All guests put on their own shoes."
   ]
  },
  {
   "cell_type": "markdown",
   "metadata": {},
   "source": [
    "Let $N$ be the number of guests. Since each guest has a left and a right shoe, there are $2N$ shoes in total. Each guest must choose one left shoe and one right shoe. We assume that each guest picks one left and one right shoe randomly.\n",
    "\n",
    "Let's consider the total number of ways the $N$ guests can pick up the $2N$ shoes, such that every guest has a left shoe and a right shoe. The number of ways to select the left shoes is $N!$. The number of ways to select the right shoes is $N!$. \n",
    "\n",
    "Therefore, the total number of ways to select the pairs of shoes is given by the product of these two: \n",
    "\n",
    "$$\n",
    "(N!) * (N!) = (N!)^2\n",
    "$$\n",
    "\n",
    "Out of all possible arrangements, there's only one correct arrangement where every guest wears their own pair of shoes (both left and right shoes matching). This is because each guest needs to pick their specific left shoe, and their specific right shoe. Any other choice would lead to at least one guest not wearing their own pair.\n",
    "\n",
    "Therefore, the probability of event A (all guests put on their own shoes) is:\n",
    "\n",
    "$$\n",
    "P(A) = \\frac{1}{(N!)^2}\n",
    "$$"
   ]
  },
  {
   "cell_type": "code",
   "execution_count": null,
   "metadata": {},
   "outputs": [],
   "source": [
    "import numpy as np\n",
    "import matplotlib.pyplot as plt\n",
    "import pandas as pd\n",
    "\n",
    "\n",
    "def simulate_shoe_problem(n, num_trials=1_000_000):\n",
    "    \"\"\"Simulates the shoe problem for N guests over a specified number of trials.\"\"\"\n",
    "    successes = 0\n",
    "    for _ in range(num_trials):\n",
    "        # Create a list of left and right shoes\n",
    "        # Represented by the indexes of the shoes\n",
    "        left_shoes = np.arange(n)\n",
    "        right_shoes = np.arange(n)\n",
    "        # Shuffle the shoes\n",
    "        # This represents the random assignment of shoes to guests\n",
    "        np.random.shuffle(left_shoes)\n",
    "        np.random.shuffle(right_shoes)\n",
    "\n",
    "        # Check if all guests have their own shoes\n",
    "        # This condition is met if and ONLY IF guest `i` gets their own left shoe (index `i`)\n",
    "        # and their own right shoe (index `i`) for every guest `i`\n",
    "        # all() returns True if all elements in the iterable are True\n",
    "        if all(left_shoes[i] == right_shoes[i] == i for i in range(n)):\n",
    "            successes += 1\n",
    "\n",
    "    # Return the probability of success\n",
    "    return successes / num_trials"
   ]
  },
  {
   "cell_type": "code",
   "execution_count": null,
   "metadata": {},
   "outputs": [
    {
     "name": "stderr",
     "output_type": "stream",
     "text": [
      "/var/folders/5c/74zjnt5j7tz5srqtplhlybsh0000gn/T/ipykernel_3320/3080354942.py:8: DeprecationWarning: `np.math` is a deprecated alias for the standard library `math` module (Deprecated Numpy 1.25). Replace usages of `np.math` with `math`\n",
      "  analytical_prob = 1 / (np.math.factorial(n) ** 2)\n"
     ]
    },
    {
     "name": "stdout",
     "output_type": "stream",
     "text": [
      "\n",
      "\n",
      "   N  Simulated Probability  Analytical Probability\n",
      "0  1               1.000000                1.000000\n",
      "1  2               0.249913                0.250000\n",
      "2  3               0.027734                0.027778\n",
      "3  4               0.001736                0.001736\n",
      "4  5               0.000065                0.000069\n"
     ]
    }
   ],
   "source": [
    "# Data collection\n",
    "n_values = range(1, 6)  # Test for N = 1 to 5\n",
    "probabilities_simulated = []\n",
    "probabilities_analytical = []\n",
    "\n",
    "for n in n_values:\n",
    "    simulated_prob = simulate_shoe_problem(n)\n",
    "    analytical_prob = 1 / (np.math.factorial(n) ** 2)\n",
    "\n",
    "    probabilities_simulated.append(simulated_prob)\n",
    "    probabilities_analytical.append(analytical_prob)\n",
    "\n",
    "# Create a DataFrame for easier viz\n",
    "data = {\n",
    "    \"N\": list(n_values),\n",
    "    \"Simulated Probability\": probabilities_simulated,\n",
    "    \"Analytical Probability\": probabilities_analytical,\n",
    "}\n",
    "df = pd.DataFrame(data)\n",
    "\n",
    "# Display the DataFrame\n",
    "print(\"\\n\")\n",
    "print(df)"
   ]
  },
  {
   "cell_type": "markdown",
   "metadata": {},
   "source": [
    "### **Event B:** All guests put on shoes from the same pair (which may not be their own)."
   ]
  },
  {
   "cell_type": "markdown",
   "metadata": {},
   "source": [
    "Again, let $N$ be the number of guests. There are $2N$ shoes in total (N left shoes and N right shoes).\n",
    "\n",
    "Total number of ways to choose left shoes: $N!$ (N choices for the first guest, N-1 for the second, ..., 1 for the last)\n",
    "\n",
    "Total number of ways to choose right shoes: $N!$\n",
    "\n",
    "The total number of possible shoe arrangements is $(N!)^2$, as each guest selects one left shoe and one right shoe independently.\n",
    "\n",
    "All guests wear shoes from the same pair. This means if guest 1 picks a left shoe belonging to guest 'X', then they must also pick the right shoe belonging to guest 'X'. The second guest then picks a pair belonging to another guest 'Y' (different from X), and so on.\n",
    "\n",
    "The first guest can choose any of the $N$ left shoes. Having chosen a left shoe, the first guest then must choose the matching right shoe (only 1 choice). The second guest can now choose any of the remaining $N-1$ left shoes. Then they too must take the matching right shoe (only 1 option). This continues until the last guest.\n",
    "\n",
    "So, the number of ways all guests put on shoes from the same pair is $N!$ (the number of ways to assign the pairs to guests).\n",
    "\n",
    "Therefore, the probability of event B is:\n",
    "\n",
    " $$\n",
    " P(B) = \\frac{N!}{(N!)^2} = \\frac{1}{N!} \n",
    " $$"
   ]
  },
  {
   "cell_type": "code",
   "execution_count": null,
   "metadata": {},
   "outputs": [],
   "source": [
    "import numpy as np\n",
    "import math\n",
    "import pandas as pd\n",
    "import matplotlib.pyplot as plt\n",
    "\n",
    "\n",
    "def simulate_shoe_problem_b(n, num_trials=1_000_000):\n",
    "    \"\"\"Simulates event B for the shoe problem.\"\"\"\n",
    "    successes = 0\n",
    "    for _ in range(num_trials):\n",
    "        left_shoes = np.arange(n)\n",
    "        right_shoes = np.arange(n)\n",
    "        np.random.shuffle(left_shoes)\n",
    "        np.random.shuffle(right_shoes)\n",
    "\n",
    "        # The difference between event A and event B is that\n",
    "        # event B does not check if the left and right shoes are the same with index i\n",
    "        # no extra \"== i\"\n",
    "        if all(left_shoes[i] == right_shoes[i] for i in range(n)):\n",
    "            successes += 1\n",
    "\n",
    "    return successes / num_trials"
   ]
  },
  {
   "cell_type": "code",
   "execution_count": null,
   "metadata": {},
   "outputs": [
    {
     "name": "stdout",
     "output_type": "stream",
     "text": [
      "   N  Simulated Probability (B)  Analytical Probability (B)\n",
      "0  1                   1.000000                    1.000000\n",
      "1  2                   0.499888                    0.500000\n",
      "2  3                   0.166168                    0.166667\n",
      "3  4                   0.041974                    0.041667\n",
      "4  5                   0.008390                    0.008333\n"
     ]
    }
   ],
   "source": [
    "# Example usage (copy-pasted from the previous cell)\n",
    "n_values = range(1, 6)\n",
    "simulated_probs = []\n",
    "analytical_probs = []\n",
    "\n",
    "for n in n_values:\n",
    "    simulated_prob = simulate_shoe_problem_b(n)\n",
    "    analytical_prob = 1 / math.factorial(n)\n",
    "    simulated_probs.append(simulated_prob)\n",
    "    analytical_probs.append(analytical_prob)\n",
    "\n",
    "# Create a DataFrame\n",
    "data = {\n",
    "    \"N\": list(n_values),\n",
    "    \"Simulated Probability (B)\": simulated_probs,\n",
    "    \"Analytical Probability (B)\": analytical_probs,\n",
    "}\n",
    "df = pd.DataFrame(data)\n",
    "\n",
    "# Display the DataFrame\n",
    "print(df)"
   ]
  },
  {
   "cell_type": "markdown",
   "metadata": {},
   "source": [
    "## Problem 3. Defectives (#distributions)\n",
    "\n",
    "Consider a box containing 3 defective parts and 5 working parts. Parts are drawn from the box one by one without replacement until the first good part is found. Let $X$ be the random variable representing the number of extractions required to find the first good part."
   ]
  },
  {
   "cell_type": "markdown",
   "metadata": {},
   "source": [
    "### 1. Determine the cumulative distribution function (CDF) for the random variable $X$.\n",
    "\n",
    "To find the CDF, $F_X(x)$, I need to calculate $P(X \\le x)$ for all possible values of $x$. First, I recognize that $X$ can take on values (supports) from 1 to 4. \n",
    "\n",
    "> It's impossible to draw more than 4 parts without finding a working one, since there are only 3 defectives.\n",
    "\n",
    "Let $D$ represent drawing a defective part and $W$ represent drawing a working part.\n",
    "\n",
    "- Case $x < 1$: It's impossible to find a working part in less than one draw, so \n",
    "\n",
    "$$\n",
    "F_X(x) = P(X \\le x) = 0 \\quad \\text{for} \\quad x < 1\n",
    "$$\n",
    "\n",
    "- Case $1 \\le x < 2$: This corresponds to finding the first working part on the first draw. There are 5 working parts out of 8 total, so:\n",
    "\n",
    "$$\n",
    "F_X(x) = P(X \\le 1) = P(X=1) = \\frac{5}{8} \\text{ or } 62.5\\%\n",
    "$$\n",
    "\n",
    "- Case $2 \\le x < 3$: This means finding the first working part within the first two draws. This can happen in two ways: finding it on the first draw (which we already calculated) or finding a defective part first and then a working part. Thinking through this:\n",
    "\n",
    "$$\n",
    "F_X(x) = P(X \\le 2) = P(X=1) + P(X=2) = \\frac{5}{8} + P(D_1 \\cap W_2) \n",
    "$$\n",
    "\n",
    "$$\n",
    "= \\frac{5}{8} + \\frac{3}{8} \\cdot \\frac{5}{7} = \\frac{5}{8} + \\frac{15}{56} = \\frac{35+15}{56} = \\frac{50}{56} = \\frac{25}{28} \\text{ or } 89.29\\%\n",
    "$$\n",
    "\n",
    "- Case $3 \\le x < 4$: This means finding the first working part within the first three draws. Initially, I tried adding probabilities like the previous case, but realized I could approach it more efficiently by considering the complement. The only way not to find a working part in three draws is to draw all three defective parts. So:\n",
    "\n",
    "$$\n",
    "P(X > 3) = P(D_1 \\cap D_2 \\cap D_3) = \\frac{3}{8} \\cdot \\frac{2}{7} \\cdot \\frac{1}{6} = \\frac{1}{56}\n",
    "$$\n",
    "\n",
    "Therefore, \n",
    "\n",
    "$$\n",
    "F_X(x) = P(X \\le 3) = 1 - P(X > 3) = 1 - \\frac{1}{56} = \\frac{55}{56} \\text{ or } 98.21\\%\n",
    "$$\n",
    "\n",
    "- Case $x \\ge 4$: It's certain we'll find a working part by the fourth draw at the latest, so \n",
    "\n",
    "$$\n",
    "F_X(x) = P(X \\le 4) = 1 \\text{ or } 100\\%\n",
    "$$\n",
    "\n",
    "\n",
    "Putting this all together, the CDF is:\n",
    "\n",
    "$$\n",
    "F_X(x) = \\begin{cases}\n",
    "0, & x < 1 \\\\\n",
    "\\frac{5}{8} \\text{ or } 62.5\\%, & 1 \\le x < 2 \\\\\n",
    "\\frac{25}{28} \\text{ or } 89.29\\%, & 2 \\le x < 3 \\\\\n",
    "\\frac{55}{56} \\text{ or } 98.21\\%, & 3 \\le x < 4 \\\\\n",
    "1 \\text{ or } 100\\%, & x \\ge 4\n",
    "\\end{cases}\n",
    "$$"
   ]
  },
  {
   "cell_type": "markdown",
   "metadata": {},
   "source": [
    "### 2. Plot the graph of the cumulative distribution function (CDF) for the random variable $X$."
   ]
  },
  {
   "cell_type": "code",
   "execution_count": null,
   "metadata": {},
   "outputs": [
    {
     "data": {
      "image/png": "[encoded data removed]",
      "text/plain": [
       "<Figure size 640x480 with 1 Axes>"
      ]
     },
     "metadata": {},
     "output_type": "display_data"
    }
   ],
   "source": [
    "import matplotlib.pyplot as plt\n",
    "\n",
    "# x-values where the CDF changes (jumps)\n",
    "x_values = [1, 2, 3, 4]\n",
    "\n",
    "# corresponding CDF values at these x-values\n",
    "cdf_values = [5 / 8, 25 / 28, 55 / 56, 1]\n",
    "\n",
    "# create the step plot\n",
    "plt.step(\n",
    "    x_values, cdf_values, where=\"post\", label=\"CDF\"\n",
    ")  # 'post' ensures the steps are correctly aligned\n",
    "\n",
    "# add specific values and dots to represent the CDF\n",
    "# Carl's note: Feels like CSS in Web Design. I enjoy this.\n",
    "plt.scatter(x_values, cdf_values, color=\"red\", zorder=5)\n",
    "for x, y in zip(x_values, cdf_values):\n",
    "    plt.text(x, y, f\"({x}, {y:.4f})\", fontsize=9, verticalalignment=\"bottom\")\n",
    "\n",
    "# labels and title\n",
    "plt.xlabel(\"Number of Extractions (X)\")\n",
    "plt.ylabel(\"CDF(X)\")\n",
    "plt.title(\"Cumulative Distribution Function of X\")\n",
    "\n",
    "# grid for better readability\n",
    "plt.grid(True)\n",
    "\n",
    "# show plot with legend\n",
    "plt.legend()\n",
    "\n",
    "# adjust x y axis\n",
    "plt.xlim(0, 4.5)\n",
    "plt.ylim(0, 1.3)\n",
    "plt.show()"
   ]
  },
  {
   "cell_type": "markdown",
   "metadata": {},
   "source": [
    "The \"step\" nature of the graph reflects the discrete nature of the random variable $X$. The probability jumps at each integer value of $x$ and remains constant until the next integer. The open circles at the beginning of each step indicate that the CDF takes the value at the top of the \"step.\" "
   ]
  },
  {
   "cell_type": "markdown",
   "metadata": {},
   "source": [
    "### 3. There are 5 cars that require a working part to be fixed. We randomly choose one part from the box and place it in the car, without replacement. If the part is a working part, then the car is fixed. Let Y be the random variable representing the number of fixed cars. What is the probability mass function (PMF) for $Y$."
   ]
  },
  {
   "cell_type": "markdown",
   "metadata": {},
   "source": [
    "$Y$ represents the number of cars fixed, which depends on the number of working parts drawn from the box. Since there are only 5 working parts in the box, $Y$ can take on values from 0 to 5.  We need to find $P(Y=y)$ for each of these values.\n",
    "\n",
    "* **$P(Y=0)$:** This means no working parts were drawn in the five draws. This is only possible if all five draws are defective parts, which is impossible since there are only 3 defective parts. Thus,\n",
    "    $$ P(Y=0) = 0 $$\n",
    "\n",
    "* **$P(Y=1)$:** This means exactly one working part was drawn. This occurs if we draw one working part and four defective parts. However, since there are only 3 defective parts, this is also impossible. Thus,\n",
    "    $$ P(Y=1) = 0 $$\n",
    "\n",
    "* **$P(Y=2)$:** This means exactly two working parts were drawn. We need to consider the combinations of drawing 2 working parts (W) and 3 defective parts (D):\n",
    "    $$ P(Y=2) = \\frac{\\binom{5}{2}\\binom{3}{3}}{\\binom{8}{5}} = \\frac{10 \\cdot 1}{56} = \\frac{10}{56} = \\frac{5}{28} $$\n",
    "\n",
    "* **$P(Y=3)$:** This means exactly three working parts were drawn and thus, two defective parts:\n",
    "    $$ P(Y=3) = \\frac{\\binom{5}{3}\\binom{3}{2}}{\\binom{8}{5}} = \\frac{10 \\cdot 3}{56} = \\frac{30}{56} = \\frac{15}{28} $$\n",
    "\n",
    "* **$P(Y=4)$:** This means exactly four working parts were drawn and one defective part.\n",
    "   $$ P(Y=4) = \\frac{\\binom{5}{4}\\binom{3}{1}}{\\binom{8}{5}} = \\frac{5 \\cdot 3}{56} = \\frac{15}{56} $$\n",
    "\n",
    "* **$P(Y=5)$:** This means all five working parts were drawn, which is possible if we draw all 5 working parts before any of the defective ones.\n",
    "    $$ P(Y=5) = \\frac{\\binom{5}{5}\\binom{3}{0}}{\\binom{8}{5}} = \\frac{1 \\cdot 1}{56} = \\frac{1}{56} $$\n"
   ]
  },
  {
   "cell_type": "markdown",
   "metadata": {},
   "source": [
    "$Y$ represents the number of cars fixed, which depends on the number of working parts drawn from the box. Since there are only 5 working parts in the box, $Y$ can take on values from 0 to 5. We need to find $P(Y=y)$ for each of these values.\n",
    "\n",
    "This scenario represents a **hypergeometric distribution**. The hypergeometric distribution models the probability of drawing a specific number of successes (working parts) in a fixed number of draws from a finite population without replacement.\n",
    "\n",
    "The general formula for the hypergeometric distribution is:\n",
    "\n",
    "$$\n",
    "P(Y = k) = \\frac{\\binom{K}{k} \\binom{N-K}{n-k}}{\\binom{N}{n}}\n",
    "$$\n",
    "\n",
    "where:\n",
    "- $N$ is the population size,\n",
    "- $K$ is the number of successes in the population,\n",
    "- $n$ is the number of draws,\n",
    "- $k$ is the number of observed successes.\n",
    "\n",
    "For this problem:\n",
    "- $N = 8$ (total parts),\n",
    "- $K = 5$ (working parts),\n",
    "- $n = 5$ (number of draws),\n",
    "- $k$ can take values from 0 to 5 (number of working parts drawn).\n",
    "\n",
    "### Calculating $P(Y = y)$ for Each Value of $y$\n",
    "\n",
    "* **$P(Y=0)$:** No working parts drawn (impossible):\n",
    "\n",
    "$$\n",
    "P(Y = 0) = \\frac{\\binom{5}{0} \\binom{3}{5}}{\\binom{8}{5}} = 0\n",
    "$$\n",
    "\n",
    "* **$P(Y=1)$:** One working part drawn (impossible):\n",
    "\n",
    "$$\n",
    "P(Y = 1) = \\frac{\\binom{5}{1} \\binom{3}{4}}{\\binom{8}{5}} = 0\n",
    "$$\n",
    "\n",
    "* **$P(Y=2)$:** Two working parts drawn:\n",
    "\n",
    "$$\n",
    "P(Y = 2) = \\frac{\\binom{5}{2} \\binom{3}{3}}{\\binom{8}{5}} = \\frac{10 \\cdot 1}{56} = \\frac{5}{28} \\text{ or } 17.86\\%\n",
    "$$\n",
    "\n",
    "* **$P(Y=3)$:** Three working parts drawn:\n",
    "\n",
    "$$\n",
    "P(Y = 3) = \\frac{\\binom{5}{3} \\binom{3}{2}}{\\binom{8}{5}} = \\frac{10 \\cdot 3}{56} = \\frac{15}{28} \\text{ or } 53.57\\%\n",
    "$$\n",
    "\n",
    "* **$P(Y=4)$:** Four working parts drawn:\n",
    "\n",
    "$$\n",
    "P(Y = 4) = \\frac{\\binom{5}{4} \\binom{3}{1}}{\\binom{8}{5}} = \\frac{5 \\cdot 3}{56} = \\frac{15}{56} \\text{ or } 26.79\\%\n",
    "$$\n",
    "\n",
    "* **$P(Y=5)$:** All five working parts drawn:\n",
    "\n",
    "$$\n",
    "P(Y = 5) = \\frac{\\binom{5}{5} \\binom{3}{0}}{\\binom{8}{5}} = \\frac{1 \\cdot 1}{56} = \\frac{1}{56} \\text{ or } 1.79\\%\n",
    "$$\n",
    "\n",
    "\n",
    "Therefore, the PMF of $Y$ is:\n",
    "\n",
    "$$\n",
    "P(Y=y) = \\begin{cases}\n",
    "    0, & y=0, 1 \\\\\n",
    "    \\frac{10}{56} = \\frac{5}{28}, & y=2 \\\\\n",
    "    \\frac{30}{56} = \\frac{15}{28}, & y=3 \\\\\n",
    "    \\frac{15}{56}, & y=4 \\\\\n",
    "    \\frac{1}{56}, & y=5 \\\\\n",
    "\\end{cases}\n",
    "$$\n",
    "\n",
    "**Verification:**  As a check, the probabilities should sum to 1:\n",
    "\n",
    "$$ \\frac{10}{56} + \\frac{30}{56} + \\frac{15}{56} + \\frac{1}{56} = \\frac{10 + 30 + 15 + 1}{56} = \\frac{56}{56} = 1 $$\n",
    "\n",
    "This confirms the PMF is correct.\n"
   ]
  },
  {
   "cell_type": "markdown",
   "metadata": {},
   "source": [
    "### 4. Write a simulation to verify your PMF from part 3.3."
   ]
  },
  {
   "cell_type": "code",
   "execution_count": null,
   "metadata": {},
   "outputs": [
    {
     "name": "stdout",
     "output_type": "stream",
     "text": [
      "   Y  Theoretical PMF  Empirical PMF\n",
      "0  0         0.000000       0.000000\n",
      "1  1         0.000000       0.000000\n",
      "2  2         0.178571       0.179068\n",
      "3  3         0.535714       0.534887\n",
      "4  4         0.267857       0.267864\n",
      "5  5         0.017857       0.018181\n"
     ]
    }
   ],
   "source": [
    "import numpy as np\n",
    "import matplotlib.pyplot as plt\n",
    "import pandas as pd\n",
    "\n",
    "# defective and working parts\n",
    "num_defective = 3\n",
    "num_working = 5\n",
    "total_parts = num_defective + num_working\n",
    "\n",
    "num_trials = 1_000_000\n",
    "\n",
    "# array to store the results of each trial\n",
    "fixed_cars = [0] * num_trials\n",
    "\n",
    "# simulation\n",
    "for i in range(num_trials):\n",
    "    # Create a representation of the box with parts (0 for defective, 1 for working)\n",
    "    box = np.array([0] * num_defective + [1] * num_working)\n",
    "\n",
    "    # shuffle the box randomly\n",
    "    np.random.shuffle(box)\n",
    "\n",
    "    # draw 5 parts w/out replacement\n",
    "    draw = box[\n",
    "        :5\n",
    "    ]  # taking the first 5 after shuffling simulates drawing without replacement\n",
    "\n",
    "    # count the number of working parts drawn (fixed cars)\n",
    "    fixed_cars[i] = np.sum(draw)\n",
    "\n",
    "# calculate PMF from simulation\n",
    "# unique() returns the unique values in the array\n",
    "unique_vals, counts = np.unique(fixed_cars, return_counts=True)\n",
    "empirical_pmf = counts / num_trials\n",
    "\n",
    "# theoretical PMF from previous calculation\n",
    "theoretical_pmf = np.array([0, 0, 5 / 28, 15 / 28, 15 / 56, 1 / 56])\n",
    "\n",
    "# dataframe for pandas for easier viz\n",
    "data = {\n",
    "    \"Y\": range(6),\n",
    "    \"Theoretical PMF\": theoretical_pmf,\n",
    "    \"Empirical PMF\": [0, 0] + empirical_pmf.tolist(),\n",
    "    # used to ensure the list matches the length of theoretical PMF\n",
    "}\n",
    "\n",
    "df = pd.DataFrame(data)\n",
    "print(df)"
   ]
  },
  {
   "cell_type": "markdown",
   "metadata": {},
   "source": [
    "\n",
    "# AI Statement\n",
    "I used [Text2Latex](https://www.text2latex.com) instead of an LLM to help me so I can write latex without getting \"hints\". Other than that, no AI tools were used. \n",
    "\n",
    "\n",
    "# References\n",
    "I adapted the Monte Carlo simulation approach from \"Simulated Birthdays\" (CS114. Lesson 4. Combinatorics 1.) to estimate the probabilities of no repetitions and palindromes.\n",
    "\n",
    "The \"Dumplings\" problem  provided the conceptual framework and calculation strategy for determining the probabilities of both Event A (everyone getting their own shoes) and Event B (everyone getting matching shoes). Especially in the idea of utilizing complementary events (shifting perspectives) and the inclusion-exclusion principle.\n",
    "\n",
    "The \"Python guide\" for plotting the Binomial CDF (CS114. Lesson 9. Discrete Random Variables 2.) illustrated general CDF plotting techniques, which I referred to create the CDF plot for this specific problem.\n",
    "\n",
    "The \"Eggs\" exercise and the \"Hypergeometric distribution\" section (CS114. Lesson 8. Discrete Random Variables 1.) was referred for further understanding and applying the Hypergeometric distribution to derive the PMF, as both scenarios involved similar sampling without replacement in code."
   ]
  }
 ],
 "metadata": {
  "kernelspec": {
   "display_name": "Python 3",
   "language": "python",
   "name": "python3"
  },
  "language_info": {
   "codemirror_mode": {
    "name": "ipython",
    "version": 3
   },
   "file_extension": ".py",
   "mimetype": "text/x-python",
   "name": "python",
   "nbconvert_exporter": "python",
   "pygments_lexer": "ipython3",
   "version": "3.11.9"
  }
 },
 "nbformat": 4,
 "nbformat_minor": 2
}
