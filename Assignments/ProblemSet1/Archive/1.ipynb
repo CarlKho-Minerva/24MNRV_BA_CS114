{
 "cells": [
  {
   "cell_type": "code",
   "execution_count": 2,
   "metadata": {},
   "outputs": [
    {
     "name": "stdout",
     "output_type": "stream",
     "text": [
      "Total number of arrangements: 456,976,000\n"
     ]
    }
   ],
   "source": [
    "total_arrangements = 26 * 26 * 10 * 10 * 10 * 26 * 26\n",
    "print(f\"Total number of arrangements: {total_arrangements:,}\")"
   ]
  },
  {
   "cell_type": "code",
   "execution_count": 3,
   "metadata": {},
   "outputs": [
    {
     "name": "stdout",
     "output_type": "stream",
     "text": [
      "Probability of no repeated characters: 0.565316\n"
     ]
    }
   ],
   "source": [
    "no_repeats = 26 * 25 * 10 * 9 * 8 * 24 * 23\n",
    "probability_no_repeats = no_repeats / total_arrangements\n",
    "print(f\"Probability of no repeated characters: {probability_no_repeats:.6f}\")"
   ]
  },
  {
   "cell_type": "code",
   "execution_count": 4,
   "metadata": {},
   "outputs": [
    {
     "name": "stdout",
     "output_type": "stream",
     "text": [
      "Probability of a palindrome: 0.00014793\n"
     ]
    }
   ],
   "source": [
    "palindromes = 26 * 26 * 10 * 10\n",
    "probability_palindrome = palindromes / total_arrangements\n",
    "print(f\"Probability of a palindrome: {probability_palindrome:.8f}\")"
   ]
  },
  {
   "cell_type": "code",
   "execution_count": 9,
   "metadata": {},
   "outputs": [
    {
     "name": "stdout",
     "output_type": "stream",
     "text": [
      "Probability of no repeated characters: 0.565316\n",
      "Probability of a palindrome: 0.00014793\n",
      "Simulated probability of no repeated characters: 0.565719\n",
      "Simulated probability of a palindrome: 0.00015090\n"
     ]
    }
   ],
   "source": [
    "import random\n",
    "import string\n",
    "\n",
    "\n",
    "def generate_plate():\n",
    "    letters = random.choices(string.ascii_uppercase, k=4)\n",
    "    numbers = random.choices(string.digits, k=3)\n",
    "    return letters[:2] + numbers + letters[2:]\n",
    "\n",
    "\n",
    "def has_no_repeats(plate):\n",
    "    return len(set(plate)) == 7\n",
    "\n",
    "\n",
    "def is_palindrome(plate):\n",
    "    return plate[0] == plate[6] and plate[1] == plate[5] and plate[2] == plate[4]\n",
    "\n",
    "\n",
    "def run_simulation(num_trials):\n",
    "    no_repeats_count = 0\n",
    "    palindrome_count = 0\n",
    "\n",
    "    for _ in range(num_trials):\n",
    "        plate = generate_plate()\n",
    "        if has_no_repeats(plate):\n",
    "            no_repeats_count += 1\n",
    "        if is_palindrome(plate):\n",
    "            palindrome_count += 1\n",
    "\n",
    "    return no_repeats_count / num_trials, palindrome_count / num_trials\n",
    "\n",
    "\n",
    "# Run the simulation\n",
    "num_trials = 10_000_000\n",
    "no_repeats_prob, palindrome_prob = run_simulation(num_trials)\n",
    "\n",
    "print(\"Probability of no repeated characters: 0.565316\")\n",
    "print(\"Probability of a palindrome: 0.00014793\")\n",
    "\n",
    "print(f\"Simulated probability of no repeated characters: {no_repeats_prob:.6f}\")\n",
    "print(f\"Simulated probability of a palindrome: {palindrome_prob:.8f}\")"
   ]
  },
  {
   "cell_type": "markdown",
   "metadata": {},
   "source": [
    "__"
   ]
  },
  {
   "cell_type": "code",
   "execution_count": 10,
   "metadata": {},
   "outputs": [
    {
     "name": "stdout",
     "output_type": "stream",
     "text": [
      "Event A (All own shoes):\n",
      "  Theoretical probability: 0.00833333\n",
      "  Simulated probability:   0.00005800\n",
      "\n",
      "Event B (All same pair):\n",
      "  Theoretical probability: 0.20000000\n",
      "  Simulated probability:   0.00000000\n"
     ]
    }
   ],
   "source": [
    "import random\n",
    "import math\n",
    "\n",
    "\n",
    "def simulate_shoe_distribution(N, num_trials):\n",
    "    event_A_count = 0\n",
    "    event_B_count = 0\n",
    "\n",
    "    for _ in range(num_trials):\n",
    "        # Create lists for left and right shoes\n",
    "        left_shoes = list(range(N))\n",
    "        right_shoes = list(range(N))\n",
    "\n",
    "        # Shuffle both lists\n",
    "        random.shuffle(left_shoes)\n",
    "        random.shuffle(right_shoes)\n",
    "\n",
    "        # Check for Event A: All guests put on their own shoes\n",
    "        if all(left_shoes[i] == right_shoes[i] == i for i in range(N)):\n",
    "            event_A_count += 1\n",
    "\n",
    "        # Check for Event B: All guests put on shoes from the same pair\n",
    "        if len(set(zip(left_shoes, right_shoes))) == 1:\n",
    "            event_B_count += 1\n",
    "\n",
    "    return event_A_count / num_trials, event_B_count / num_trials\n",
    "\n",
    "\n",
    "# Run the simulation\n",
    "N = 5  # Number of guests\n",
    "num_trials = 1000000  # Number of trials\n",
    "\n",
    "simulated_prob_A, simulated_prob_B = simulate_shoe_distribution(N, num_trials)\n",
    "\n",
    "# Calculate theoretical probabilities\n",
    "theoretical_prob_A = 1 / math.factorial(N)\n",
    "theoretical_prob_B = 1 / N\n",
    "\n",
    "print(f\"Event A (All own shoes):\")\n",
    "print(f\"  Theoretical probability: {theoretical_prob_A:.8f}\")\n",
    "print(f\"  Simulated probability:   {simulated_prob_A:.8f}\")\n",
    "print(f\"\\nEvent B (All same pair):\")\n",
    "print(f\"  Theoretical probability: {theoretical_prob_B:.8f}\")\n",
    "print(f\"  Simulated probability:   {simulated_prob_B:.8f}\")"
   ]
  },
  {
   "cell_type": "markdown",
   "metadata": {},
   "source": [
    "____"
   ]
  },
  {
   "cell_type": "code",
   "execution_count": 12,
   "metadata": {},
   "outputs": [
    {
     "name": "stdout",
     "output_type": "stream",
     "text": [
      "1.1 Total number of arrangements: 456,976,000\n",
      "1.2 Probability of no repeated characters: 0.565316\n",
      "1.3 Probability of a palindrome: 0.00014793\n",
      "1.4 Simulated probability of no repeated characters: 0.564802\n",
      "1.4 Simulated probability of a palindrome: 0.00017900\n",
      "\n",
      "Problem 2: Distinguished Shoes (N = 500)\n",
      "Event A (All own shoes):\n",
      "  Theoretical probability: 0.00000000\n",
      "  Simulated probability:   0.00000000\n",
      "Event B (All same pair):\n",
      "  Theoretical probability: 0.00200000\n",
      "  Simulated probability:   0.00000000\n"
     ]
    },
    {
     "data": {
      "image/png": "[encoded data removed]",
      "text/plain": [
       "<Figure size 1000x600 with 1 Axes>"
      ]
     },
     "metadata": {},
     "output_type": "display_data"
    },
    {
     "name": "stdout",
     "output_type": "stream",
     "text": [
      "\n",
      "Problem 3: Defectives\n",
      "Y\tSimulated PMF\tTheoretical PMF\n",
      "0\t0.000000\t\t0.017857\n",
      "1\t0.000000\t\t0.089286\n",
      "2\t0.178580\t\t0.178571\n",
      "3\t0.535624\t\t0.267857\n",
      "4\t0.267885\t\t0.107143\n",
      "5\t0.017911\t\t0.017857\n"
     ]
    }
   ],
   "source": [
    "# Problem 1: License Plates\n",
    "\n",
    "import random\n",
    "import string\n",
    "import math\n",
    "\n",
    "# 1.1 Total number of arrangements\n",
    "total_arrangements = 26 * 26 * 10 * 10 * 10 * 26 * 26\n",
    "print(f\"1.1 Total number of arrangements: {total_arrangements:,}\")\n",
    "\n",
    "# 1.2 Probability of no repeated characters\n",
    "no_repeats = 26 * 25 * 10 * 9 * 8 * 24 * 23\n",
    "probability_no_repeats = no_repeats / total_arrangements\n",
    "print(f\"1.2 Probability of no repeated characters: {probability_no_repeats:.6f}\")\n",
    "\n",
    "# 1.3 Probability of a palindrome\n",
    "palindromes = 26 * 26 * 10 * 10\n",
    "probability_palindrome = palindromes / total_arrangements\n",
    "print(f\"1.3 Probability of a palindrome: {probability_palindrome:.8f}\")\n",
    "\n",
    "\n",
    "# 1.4 Simulation\n",
    "def generate_plate():\n",
    "    letters = random.choices(string.ascii_uppercase, k=4)\n",
    "    numbers = random.choices(string.digits, k=3)\n",
    "    return letters[:2] + numbers + letters[2:]\n",
    "\n",
    "\n",
    "def has_no_repeats(plate):\n",
    "    return len(set(plate)) == 7\n",
    "\n",
    "\n",
    "def is_palindrome(plate):\n",
    "    return plate[0] == plate[6] and plate[1] == plate[5] and plate[2] == plate[4]\n",
    "\n",
    "\n",
    "def run_simulation(num_trials):\n",
    "    no_repeats_count = 0\n",
    "    palindrome_count = 0\n",
    "\n",
    "    for _ in range(num_trials):\n",
    "        plate = generate_plate()\n",
    "        if has_no_repeats(plate):\n",
    "            no_repeats_count += 1\n",
    "        if is_palindrome(plate):\n",
    "            palindrome_count += 1\n",
    "\n",
    "    return no_repeats_count / num_trials, palindrome_count / num_trials\n",
    "\n",
    "\n",
    "# Run the simulation\n",
    "num_trials = 1000000\n",
    "no_repeats_prob, palindrome_prob = run_simulation(num_trials)\n",
    "\n",
    "print(f\"1.4 Simulated probability of no repeated characters: {no_repeats_prob:.6f}\")\n",
    "print(f\"1.4 Simulated probability of a palindrome: {palindrome_prob:.8f}\")\n",
    "\n",
    "# Problem 2: Distinguished Shoes\n",
    "\n",
    "\n",
    "def simulate_shoe_distribution(N, num_trials):\n",
    "    event_A_count = 0\n",
    "    event_B_count = 0\n",
    "\n",
    "    for _ in range(num_trials):\n",
    "        # Create lists for left and right shoes\n",
    "        left_shoes = list(range(N))\n",
    "        right_shoes = list(range(N))\n",
    "\n",
    "        # Shuffle both lists\n",
    "        random.shuffle(left_shoes)\n",
    "        random.shuffle(right_shoes)\n",
    "\n",
    "        # Check for Event A: All guests put on their own shoes\n",
    "        if all(left_shoes[i] == right_shoes[i] == i for i in range(N)):\n",
    "            event_A_count += 1\n",
    "\n",
    "        # Check for Event B: All guests put on shoes from the same pair\n",
    "        if len(set(zip(left_shoes, right_shoes))) == 1:\n",
    "            event_B_count += 1\n",
    "\n",
    "    return event_A_count / num_trials, event_B_count / num_trials\n",
    "\n",
    "\n",
    "# Run the simulation\n",
    "N = 500  # Number of guests\n",
    "num_trials = 1000000  # Number of trials\n",
    "\n",
    "simulated_prob_A, simulated_prob_B = simulate_shoe_distribution(N, num_trials)\n",
    "\n",
    "# Calculate theoretical probabilities\n",
    "theoretical_prob_A = 1 / math.factorial(N)\n",
    "theoretical_prob_B = 1 / N\n",
    "\n",
    "print(f\"\\nProblem 2: Distinguished Shoes (N = {N})\")\n",
    "print(f\"Event A (All own shoes):\")\n",
    "print(f\"  Theoretical probability: {theoretical_prob_A:.8f}\")\n",
    "print(f\"  Simulated probability:   {simulated_prob_A:.8f}\")\n",
    "print(f\"Event B (All same pair):\")\n",
    "print(f\"  Theoretical probability: {theoretical_prob_B:.8f}\")\n",
    "print(f\"  Simulated probability:   {simulated_prob_B:.8f}\")\n",
    "\n",
    "# Problem 3: Defectives\n",
    "\n",
    "import matplotlib.pyplot as plt\n",
    "import numpy as np\n",
    "from collections import Counter\n",
    "\n",
    "\n",
    "# 3.1 and 3.2: CDF for X\n",
    "def cdf(x):\n",
    "    if x < 1:\n",
    "        return 0\n",
    "    elif x < 2:\n",
    "        return 5 / 8\n",
    "    elif x < 3:\n",
    "        return 50 / 56\n",
    "    elif x < 4:\n",
    "        return 55 / 56\n",
    "    else:\n",
    "        return 1\n",
    "\n",
    "\n",
    "x = np.linspace(0, 5, 1000)\n",
    "y = [cdf(i) for i in x]\n",
    "\n",
    "plt.figure(figsize=(10, 6))\n",
    "plt.plot(x, y, \"b-\")\n",
    "plt.title(\"Cumulative Distribution Function of X\")\n",
    "plt.xlabel(\"x\")\n",
    "plt.ylabel(\"F(x)\")\n",
    "plt.grid(True)\n",
    "plt.show()\n",
    "\n",
    "\n",
    "# 3.3 and 3.4: PMF for Y and Simulation\n",
    "def simulate_car_fixing(num_trials):\n",
    "    results = []\n",
    "    for _ in range(num_trials):\n",
    "        parts = [1] * 5 + [\n",
    "            0\n",
    "        ] * 3  # 1 represents working part, 0 represents defective part\n",
    "        random.shuffle(parts)\n",
    "        fixed_cars = sum(\n",
    "            parts[:5]\n",
    "        )  # Count number of working parts in first 5 selections\n",
    "        results.append(fixed_cars)\n",
    "\n",
    "    counts = Counter(results)\n",
    "    pmf = {k: v / num_trials for k, v in counts.items()}\n",
    "    return pmf\n",
    "\n",
    "\n",
    "# Run simulation\n",
    "num_trials = 1000000\n",
    "simulated_pmf = simulate_car_fixing(num_trials)\n",
    "\n",
    "# Theoretical PMF\n",
    "theoretical_pmf = {0: 1 / 56, 1: 5 / 56, 2: 10 / 56, 3: 15 / 56, 4: 6 / 56, 5: 1 / 56}\n",
    "\n",
    "# Print results\n",
    "print(\"\\nProblem 3: Defectives\")\n",
    "print(\"Y\\tSimulated PMF\\tTheoretical PMF\")\n",
    "for y in range(6):\n",
    "    print(f\"{y}\\t{simulated_pmf.get(y, 0):.6f}\\t\\t{theoretical_pmf[y]:.6f}\")"
   ]
  },
  {
   "cell_type": "code",
   "execution_count": null,
   "metadata": {},
   "outputs": [],
   "source": []
  }
 ],
 "metadata": {
  "kernelspec": {
   "display_name": "Python 3",
   "language": "python",
   "name": "python3"
  },
  "language_info": {
   "codemirror_mode": {
    "name": "ipython",
    "version": 3
   },
   "file_extension": ".py",
   "mimetype": "text/x-python",
   "name": "python",
   "nbconvert_exporter": "python",
   "pygments_lexer": "ipython3",
   "version": "3.11.9"
  }
 },
 "nbformat": 4,
 "nbformat_minor": 2
}
